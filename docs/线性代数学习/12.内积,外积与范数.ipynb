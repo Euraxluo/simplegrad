{
 "cells": [
  {
   "cell_type": "markdown",
   "metadata": {
    "collapsed": true
   },
   "source": [
    "# 1.内积\n",
    "$\\quad$假设$\\mathbf{u},\\mathbf{v}$是$\\Bbb{R}^{n}$中的向量，则称$\\mathbf{u}\\cdot \\mathbf{v}$为$\\mathbf{u}$和$\\mathbf{v}$的**内积**，计算如下：\n",
    "\n",
    "$$\\mathbf{u}\\cdot\\mathbf{v}=\\mathbf{u}^{T}\\mathbf{v}=[u_{1}\\cdots u_{n}]\\begin{bmatrix}\n",
    "v_{1}\\\\\n",
    "\\vdots\\\\\n",
    "v_{n}\n",
    "\\end{bmatrix}=u_{1}v_{1}+\\cdots+u_{n}v_{n}$$\n",
    "\n",
    "$\\quad$内积具有如下性质，其中$\\mathbf{u},\\mathbf{v},\\mathbf{w}$是$\\Bbb{R}^{n}$中的向量，$c$是一个数：\n",
    "\n",
    "<img src=\"./_image/12_1.png\" width=\"300\" height=\"250\" />  \n",
    "\n",
    "## 1.1内积的几何表示\n",
    "$\\quad$内积也可以写成如下形式，其中$\\theta$为$\\mathbf{u},\\mathbf{v}$向量之间的夹角：$\\mathbf{u}\\cdot \\mathbf{v}=\\Vert\\mathbf{u}\\Vert\\Vert\\mathbf{v}\\Vert cos\\theta$。\n",
    "这也是内积的几何意义，即$\\mathbf{u}$投影到$\\mathbf{v}$的长度乘以$\\mathbf{v}$的长度：\n",
    "\n",
    "<img src=\"./_image/12_2.png\" width=\"100\" height=\"50\" />\n",
    "\n",
    "# 2. 外积\n",
    "在三维空间中，两个向量a和b的外积a×b定义为这样的一个向量：\n",
    "1) $|a×b|=|a||b|sin<a,b> $其中$sin<a,b>$表示a和b两向量夹角的正弦。\n",
    "2) 若$|a×b|≠0$，那么$a×b$的方向垂直于a和b所在平面并且使a,b,c满足右手螺旋定则。\n",
    "\n",
    "设i,j,k是三维空间中成右手定则关系的标准正交基底，a和b在这组基底下的坐标分别为$(a1,a2,a3)$和$(b1,b2,b3)$，那么a×b可以用行列式形式地表示为\n",
    "![](https://gitee.com/Euraxluo/images/raw/master/pycharm/MIK-Pa2fY5.png)\n",
    "\n",
    "这个公式的由来，在一般的教材中，是先推导出外积的几个重要性质：\n",
    "1) $a×b = -b×a$\n",
    "2) $(a+b)×c = a×c+b×c$\n",
    "3) $a×(b+c) = a×b+a×c$\n",
    "4) $a×(kb)=(ka)×b=k(a×b)$\n",
    "5) $i×j=k,j×k=i,k×i=j$\n",
    "然后，就可以利用这些性质对以下式子进行展开：\n",
    "$\\( \\displaystyle \\textbf{a}\\times \\textbf{b}=(a_1i+a_2j+a_3k)\\times (b_1i+b_2j+b_3k)\\)$\n",
    "最后化为上面的行列式表示。\n",
    "\n",
    "但是，为什么外积可以如此规整地表示为一个行列式？难道只是巧合吗？一定有某些内在的原因。\n",
    "\n",
    "设\n",
    "$\n",
    "\\( \\displaystyle \\textbf{c}=( \\begin{vmatrix}a_2&a_3\\\\b_2&b_3\\end{vmatrix},-\\begin{vmatrix}a_1&a_3\\\\b_1&b_3\\end{vmatrix},\\begin{vmatrix}a_1&a_2\\\\b_1&b_2\\end{vmatrix})\\)\n",
    "$\n",
    "首先，注意到 c 的三个分量是那个三阶行列式中的三个子式，利用行列式展开法则，我们可以很容易地证明c垂直于a和b:\n",
    "$\n",
    "\\( \\begin{aligned}\\textbf{c}\\cdot\\textbf{a}&=a_1\\begin{vmatrix}a_2&a_3\\\\ b_2&b_3\\end{vmatrix}-a_2\\begin{vmatrix}a_1&a_3\\\\ b_1&b_3\\end{vmatrix}+a_3\\begin{vmatrix}a_1&a_2\\\\ b_1&b_2\\end{vmatrix}\\\\ &=\\begin{vmatrix} a_1&a_2&a_3\\\\ a_1&a_2 &a_3\\\\ b_1&b_2&b_3\\end{vmatrix}\\\\ &=0\\end{aligned}\\)\n",
    "$\n",
    "$\n",
    "\\( \\begin{aligned}\\textbf{c}\\cdot\\textbf{b}&=b_1\\begin{vmatrix}a_2&a_3\\\\ b_2&b_3\\end{vmatrix}-b_2\\begin{vmatrix}a_1&a_3\\\\ b_1&b_3\\end{vmatrix}+b_3\\begin{vmatrix}a_1&a_2\\\\ b_1&b_2\\end{vmatrix}\\\\ &=\\begin{vmatrix} b_1&b_2&b_3\\\\ a_1&a_2 &a_3\\\\ b_1&b_2&b_3\\end{vmatrix}\\\\ &=0\\end{aligned}\\)\n",
    "$\n",
    "那么，为了证明c就是a×b，我们还需证明 |c|=|a||b|sin<a,b> ，以及a,b,c满足右手螺旋定则。\n",
    "\n",
    "为了证明三个向量$a=(a1,a2,a3),b=(b1,b2,b3),c=(c1,c2,c3)$满足右手螺旋定则，只需验证行列式\n",
    "| a1 a2 a3 |\n",
    "| b1 b2 b3 |\n",
    "| c1 c2 c3 |\n",
    "的值是非负的。为此，我们将c的坐标代入，并把此行列式按c的那一行展开，得到行列式的值等于 $|c| ²$ ，因此它确实是非负的。\n",
    "\n",
    "下面证明$|c|=|a||b|sin<a,b> $。考虑行列式\n",
    "| a1 a2 a3 |\n",
    "| b1 b2 b3 |\n",
    "| c1 c2 c3 |\n",
    "的几何意义，知道它是a,b,c三个向量组成的平行六面体的体积，前面我们已经知道它的数值等于$ |c| ²$ 。又因为c垂直于a和b，那么下面的式子是成立的：\n",
    "$|c| ² =|a| |b| sin<a,b> |c| $(因为体积等于底面积乘以高)\n",
    "当c≠0时，我们直接可以得到 $|c| =|a| |b| sin<a,b>$。\n",
    "当c=0时，我们任意取一个三维向量$d=(d1,d2,d3)$，考虑行列式\n",
    "| a1 a2 a3 |\n",
    "| b1 b2 b3 |\n",
    "| d1 d2 d3 |\n",
    "因为它总是0，即不论d是什么向量，a,b,d总是线性相关。我们可以断定a,b线性相关，从而$|a| |b| sin<a,b>=0$，同样有$|c| =|a| |b| sin<a,b>$。\n",
    "\n",
    "这样，没有用到外积的那些难以推导的性质，直接用行列式的性质，我们就证明了上面的外积表达式，而且这个证明更能揭示它们之间的本质联系。\n",
    "\n",
    "因为有这样的本质联系，我们可以把三维空间中两个向量的外积推广到n维空间中的n-1个向量的情形。但是需要注意的是向量的顺序与定向的问题：如果规定\n",
    "a1,a2, …,an-1,a1×a2×…an-1取正向，那么必须在表示外积的行列式中把基底那一行写在最下面，然后按照基底那一行展开成各个分量。\n",
    "\n",
    "在初级线性代数中，有几个概念之间有密切联系，这些概念是：\n",
    "1）行列式，\n",
    "2）3个向量张成多面体的有向体积，\n",
    "3）2个向量的外积，\n",
    "4）3个向量的混合积\n",
    "其实1，2，4直接相等，证明的途径多种多样，这里列出了一种，与一般的教科书稍有不同，即先承认1）等于2），再由此推出3）的表达式，最后推得4）等于1）。\n",
    "其实承认1）等于2）之后，4）等于1）是很自然的（根据外积和混合积的定义），然后用类似上文的方法也可以推出3）的表达式。\n",
    "如果开始像一般的线性代数书那样推导3）的表达式，那么4）等于1）就是显然的，从而可以证明1）等于2）。\n",
    "\n",
    "# 3.范数\n",
    "$\\quad$各种范数如下：\n",
    "* **向量的0-范数**：向量的非零元素个数，记作$\\Vert\\mathbf{x}\\Vert_{0}$，可理解为$\\mathbf{x}$到原点的汉明距离。\n",
    "* **向量的1-范数**：向量的元素绝对值之和，记作$\\Vert\\mathbf{x}\\Vert_{1}=\\sum_{i=1}^n|x_{i}|$，可理解为$\\mathbf{x}$到原点的曼哈顿距离。\n",
    "* **向量的2-范数（向量的长度/范数）**：向量的元素平方和再开方，恰好为与自身的内积再开方，即$\\Vert\\mathbf{x}\\Vert=\\sqrt{\\mathbf{x}\\cdot\\mathbf{x}}=\\sqrt{x_{1}^{2}+\\cdots+x_{n}^{2}}$，$\\Vert\\mathbf{x}\\Vert^{2}=\\mathbf{x}\\cdot\\mathbf{x}$，可理解为$\\mathbf{x}$到原点的欧式距离。\n",
    "* **向量的p-范数**：向量元素绝对值的p次方和的1/p次幂，记作$\\Vert\\mathbf{x}\\Vert_{p}=(\\sum_{i=1}^n|x_{i}|^{p})^{\\frac{1}{p}}$\n",
    "* **矩阵的1-范数**：返回矩阵的每个列向量的1-范数中的最大值。\n",
    "* **矩阵的2-范数**：$\\Vert X\\Vert_{2}=\\sqrt{\\lambda_{1}}$，其中$\\lambda_{1}$为$X^{T}X$的最大特征值。 \n",
    "\n",
    "$\\quad$对任意数$c$，向量$c\\mathbf{x}$的长度等于$\\Vert c\\mathbf{x}\\Vert=|c|\\Vert\\mathbf{x}\\Vert$。  \n",
    "$\\quad$长度为1的向量我们称之为**单位向量**，单位化是指将向量$\\mathbf{u}$化为单位向量$\\mathbf{v}$的过程，即$\\mathbf{v}=\\mathbf{u}/\\Vert\\mathbf{u}\\Vert$，其中$\\mathbf{u},\\mathbf{v}$方向一致。  \n",
    "$\\quad$**两个向量之间的距离**：$\\Bbb{R}^{n}$中两个向量$\\mathbf{u},\\mathbf{v}$之间的距离记作$dist(\\mathbf{u},\\mathbf{v})$，表示向量$\\mathbf{u}-\\mathbf{v}$的长度，即$dist(\\mathbf{u},\\mathbf{v})=\\Vert\\mathbf{u}-\\mathbf{v}\\Vert$；可推广计算：\n",
    "\n",
    "<img src=\"./_image/12_3.png\" width=\"400\" height=\"350\" />  \n",
    "\n",
    "即满足平方差定理。"
   ]
  },
  {
   "cell_type": "code",
   "execution_count": 1,
   "metadata": {},
   "outputs": [],
   "source": [
    "#python 计算 向量的范数"
   ]
  },
  {
   "cell_type": "code",
   "execution_count": 2,
   "outputs": [
    {
     "name": "stdout",
     "output_type": "stream",
     "text": [
      "[[-3]\n",
      " [ 1]] [[2]\n",
      " [1]]\n",
      "z: [[-3  2]\n",
      " [ 1  1]]\n",
      "det_z: -5.000000000000001\n",
      "[[-3]\n",
      " [ 1]] [[2]\n",
      " [1]]\n",
      "o: [[-6 -3]\n",
      " [ 2  1]]\n"
     ]
    }
   ],
   "source": [
    "import numpy as np\n",
    "\n",
    "v = np.mat([-3, 1]).T\n",
    "w = np.mat([2, 1]).T\n",
    "print(v, w)\n",
    "z = np.concatenate((v, w), axis=1)\n",
    "print(\"z:\", z)\n",
    "det_z = np.linalg.det(z)\n",
    "print(\"det_z:\", det_z)\n",
    "print(v, w)\n",
    "o = np.mat(np.outer(v, w))\n",
    "print(\"o:\", o)"
   ],
   "metadata": {
    "collapsed": false,
    "pycharm": {
     "name": "#%%\n"
    }
   }
  },
  {
   "cell_type": "code",
   "execution_count": 3,
   "outputs": [
    {
     "name": "stdout",
     "output_type": "stream",
     "text": [
      "[[-3]\n",
      " [ 1]\n",
      " [ 1]] [[2]\n",
      " [1]\n",
      " [1]] [[2]\n",
      " [2]\n",
      " [1]]\n",
      "z: [[-3  2  2]\n",
      " [ 1  1  2]\n",
      " [ 1  1  1]]\n",
      "det_z: 5.000000000000001\n",
      "rank_z: 3\n"
     ]
    }
   ],
   "source": [
    "v = np.mat([-3, 1, 1]).T\n",
    "w = np.mat([2, 1, 1]).T\n",
    "u = np.mat([2, 2, 1]).T\n",
    "print(v, w, u)\n",
    "z = np.concatenate((v, w, u), axis=1)\n",
    "print(\"z:\", z)\n",
    "det_z = np.linalg.det(z)\n",
    "rank_z = np.linalg.matrix_rank(z)\n",
    "print(\"det_z:\", det_z)\n",
    "print(\"rank_z:\", rank_z)"
   ],
   "metadata": {
    "collapsed": false,
    "pycharm": {
     "name": "#%%\n"
    }
   }
  },
  {
   "cell_type": "code",
   "execution_count": 3,
   "outputs": [],
   "source": [],
   "metadata": {
    "collapsed": false,
    "pycharm": {
     "name": "#%%\n"
    }
   }
  }
 ],
 "metadata": {
  "kernelspec": {
   "display_name": "Python 3",
   "language": "python",
   "name": "python3"
  },
  "language_info": {
   "codemirror_mode": {
    "name": "ipython",
    "version": 3
   },
   "file_extension": ".py",
   "mimetype": "text/x-python",
   "name": "python",
   "nbconvert_exporter": "python",
   "pygments_lexer": "ipython3",
   "version": "3.7.3"
  }
 },
 "nbformat": 4,
 "nbformat_minor": 1
}