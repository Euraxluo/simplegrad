{
 "cells": [
  {
   "cell_type": "markdown",
   "metadata": {
    "collapsed": true
   },
   "source": [
    "# 1.维数\n",
    "$\\quad$若向量空间$V$有一组基含$n$个向量，则$V$的每一组基一定恰好含有$n$个向量。  \n",
    "$\\quad$若向量空间$V$由一个有限集生成，则$V$称为有限维的，$V$的**维数**写为$dimV$，是$V$的**基向量的个数**。零向量空间$\\{\\mathbf{0}\\}$的维数定义为零。如果$V$不是由一有限集生成的，则称$V$为无穷维的。  \n",
    "$\\quad$例如，$\\Bbb{R}^{3}$的子空间可用维数分类，如下：  \n",
    "   * 零维子空间。只有零子空间是零维子空间。\n",
    "   * 一维子空间。任一由单一非零向量生成的子空间，这样的子空间是经过原点的直线。\n",
    "   * 二维子空间。任一由两个线性无关向量生成的子空间，这样的子空间是通过原点的平面。\n",
    "   * 三维子空间。只有$\\Bbb{R}^{3}$本身是三维子空间，由可逆矩阵定理，$\\Bbb{R}^{3}$中任意3个线性无关向量生成整个$\\Bbb{R}^{3}$。\n",
    "   \n",
    "<img src=\"./_image/7_1.jpg\" width=\"450\" height=\"400\" />  \n",
    "\n",
    "$NulA$的维数是方程$A\\mathbf{x}=\\mathbf{0}$中自由变量的个数，$ColA$的维数是$A$中主元列的个数。\n",
    "# 2.秩\n",
    "$\\quad$矩阵$A$的秩即$A$的列空间的维数，记作rankA。  \n",
    "$\\quad$**秩定理**：$m\\times n$矩阵$A$的列空间和行空间维数相等，这个公共的维数（即$A$的秩）还等于$A$的主元位置的个数且满足方程：\n",
    "\n",
    "$$rankA+dimNulA=n$$\n",
    "\n",
    "也可理解为：{主元列个数}+{非主元列个数}={列的个数}。  \n",
    "$\\quad$秩定理是处理线性方程组的信息的一个有力工具。例如：\n",
    "\n",
    "<img src=\"./_image/7_2.png\" width=\"450\" height=\"400\" />  \n",
    "\n",
    "## 2.1秩和可逆矩阵定理\n",
    "$\\quad$我们将矩阵的秩和[可逆矩阵定理](《线性代数及其应用》笔记04.行列式及其几何意义.ipynb)联系起来。一个矩阵如果可逆，说明有$n$个主元，说明秩为$n$，当一个$n\\times n$矩阵秩为$n$时，称之为**满秩矩阵**。我们再对可逆矩阵定理做拓展：\n",
    "\n",
    "<img src=\"./_image/7_3.png\" width=\"550\" height=\"400\" />  \n",
    "\n",
    "## 2.2秩一矩阵\n",
    "$\\quad$当一个矩阵秩为1，我们称它为**秩一矩阵**。秩一矩阵易于分解为一个列向量乘以一个行向量，类似$A=\\mathbf{u}\\mathbf{v}^{T}$。  \n",
    "$\\quad$例如矩阵$A=\\begin{bmatrix}{}5 & 8 & 9\\\\15 & 24 & 27\\end{bmatrix},B=\\begin{bmatrix}2 & -1 & 8\\\\\n",
    "4 & -2 & 16\\\\\n",
    "6 & -3 & 24\n",
    "\\end{bmatrix}$，可以被分解为两个向量相乘：\n",
    "\n",
    "<img src=\"./_image/7_4.png\" width=\"250\" height=\"200\" />  \n",
    "\n",
    "$\\quad$秩一矩阵可以组合为其他矩阵，例如想得到一个$5\\times 10$的秩为3的矩阵，可用3个不同的$5\\times 10$的秩一矩阵相加得到。\n",
    "## 2.3数值计算\n",
    "$\\quad$目前我们计算一个矩阵的秩的方法是计算其主元列个数，但是这只适用于手工计算，在面对现实问题并不太适合。  \n",
    "$\\quad$比如矩阵$\\begin{bmatrix}5 & 7\\\\5 & x\\end{bmatrix}$中的$x$如果没有被当做7精确地存储在计算机中，那么秩可能为1或2，这依赖于计算机是否将$x-7$当做零处理。一个可靠而有效的方法是由矩阵的奇异值分解来确定，MATLAB计算矩阵的秩的源码如下所示：\n",
    "\n",
    "<img src=\"./_image/7_5.png\" width=\"450\" height=\"300\" />  \n",
    "\n",
    "## 2.4秩的理解\n",
    "$\\quad$一个矩阵的秩即该矩阵的列空间的维数。计算起来并不困难，但是我们应该如何去理解。  \n",
    "$\\quad$我们常说，要解$n$个变量，需要$n$个方程，但经过线性代数学习之后，我们知道一个线性方程组是否有解，是看系数矩阵是否满秩，而这个秩就代表着方程中真正有用的部分。  \n",
    "$\\quad$举一个例子。左边为方程组，右边为其增广矩阵：\n",
    "\n",
    "<img src=\"./_image/7_6.png\" width=\"450\" height=\"300\" />  \n",
    "\n",
    "$\\quad$这么一看，不太对啊，怎么解不出来了，这是因为第三个方程在原方程组中是个“多余”的方程，它本身是能够通过另外两条方程线性组合表示出来的，因此这个方程组真正有用的就是前两条，方程的秩为2。  \n",
    "$\\quad$秩是矩阵的列空间的维数，也就是矩阵中最大不相关的向量个数。满秩的话就是指矩阵中所有的列向量彼此都线性无关，方程中不存在“多余”的方程，那么方程经过行变换化为阶梯型矩阵自然就能解出。  "
   ]
  },
  {
   "cell_type": "markdown",
   "metadata": {
    "pycharm": {
     "name": "#%% md\n"
    }
   },
   "source": [
    "### tips\n",
    "1. 本节需要关注的是列数的计算\n",
    "    即:$ColA = A 主元列数$\n",
    "2. 非方阵的意义\n",
    "    $\\begin{bmatrix}3 & 1 & 4 \\\\ 1 & 5 & 9\\end{bmatrix}$该矩阵表示原始空间的三个基向量,即原始空间为3维空间,只有两行,表示变换后,每个基线连都只需要两个坐标进行表示.即三个基向量由三位变换到了二位平面\n"
   ]
  },
  {
   "cell_type": "code",
   "execution_count": 9,
   "outputs": [],
   "source": [
    "# python 求解A的秩"
   ],
   "metadata": {
    "collapsed": false,
    "pycharm": {
     "name": "#%%\n"
    }
   }
  },
  {
   "cell_type": "code",
   "execution_count": 10,
   "outputs": [
    {
     "name": "stdout",
     "output_type": "stream",
     "text": [
      "阶梯矩阵:\n",
      " [[15 24 27]\n",
      " [ 0  0  0]]\n",
      "0 0 1 15\n",
      "[[15 24 27]\n",
      " [ 0  0  0]]\n",
      "1\n",
      "阶梯矩阵:\n",
      " [[ 6 -3 24]\n",
      " [ 0  0  0]\n",
      " [ 0  0  0]]\n",
      "0 0 1 6\n",
      "[[ 6 -3 24]\n",
      " [ 0  0  0]\n",
      " [ 0  0  0]]\n",
      "1\n"
     ]
    }
   ],
   "source": [
    "import numpy as np\n",
    "\n",
    "\n",
    "# 高斯消解法求解秩\n",
    "def SequentialGauss(matrix):\n",
    "    \"\"\"\n",
    "    顺序高斯消元法-消元计算\n",
    "    :param mat:\n",
    "    :return:\n",
    "    \"\"\"\n",
    "    mat = matrix.copy()\n",
    "    for i in range(0, (mat.shape[0]) - 1):\n",
    "        # 行变换\n",
    "        col = (mat[i:, i]).copy()\n",
    "        max_arg = np.multiply(col, col).argmax()\n",
    "        mat[[i, i + max_arg], :] = mat[[i + max_arg, i], :]\n",
    "        if mat[i, i] == 0:\n",
    "            continue\n",
    "        else:\n",
    "            # 将除i行后的每一行，都进行scala，到相同的尺度\n",
    "            # scala 方式如下，选择 (j,i)/(i,i) 得到 行间的系数，\n",
    "            # scala的行 减去该系数和第i行的乘积\n",
    "            for j in range(i + 1, mat.shape[0]):\n",
    "                mat[j:j + 1, :] = mat[j:j + 1, :] - (mat[j, i] / mat[i, i]) * mat[i, :]\n",
    "    print(\"阶梯矩阵:\\n\", mat)\n",
    "    return mat\n",
    "\n",
    "\n",
    "\n",
    "\n",
    "\n",
    "\n",
    "\n"
   ],
   "metadata": {
    "collapsed": false,
    "pycharm": {
     "name": "#%%\n"
    }
   }
  },
  {
   "cell_type": "code",
   "execution_count": null,
   "outputs": [],
   "source": [
    "origin_mat = np.mat([\n",
    "    [5, 8, 9],\n",
    "    [15, 24, 27]\n",
    "])\n",
    "mat = SequentialGauss(origin_mat)\n",
    "\n",
    "matrix_rank = 0\n",
    "for i in range(mat.shape[0]):\n",
    "    for j in range(mat.shape[1]):\n",
    "        if mat[i, j] != 0:\n",
    "            matrix_rank += 1\n",
    "            print(i, j, matrix_rank, mat[i, j])\n",
    "            break\n",
    "print(mat)\n",
    "print(matrix_rank)"
   ],
   "metadata": {
    "collapsed": false,
    "pycharm": {
     "name": "#%%\n"
    }
   }
  },
  {
   "cell_type": "code",
   "execution_count": 16,
   "outputs": [
    {
     "name": "stdout",
     "output_type": "stream",
     "text": [
      "阶梯矩阵:\n",
      " [[ 6 -3 24]\n",
      " [ 0  0  0]\n",
      " [ 0  0  0]]\n",
      "0 0 1 6\n",
      "[[ 6 -3 24]\n",
      " [ 0  0  0]\n",
      " [ 0  0  0]]\n",
      "1\n"
     ]
    }
   ],
   "source": [
    "\n",
    "origin_mat = np.mat([\n",
    "    [2, -1, 8],\n",
    "    [4, -2, 16],\n",
    "    [6, -3, 24]\n",
    "])\n",
    "mat = SequentialGauss(origin_mat)\n",
    "\n",
    "matrix_rank = 0\n",
    "for i in range(mat.shape[0]):\n",
    "    for j in range(mat.shape[1]):\n",
    "        if mat[i, j] != 0:\n",
    "            matrix_rank += 1\n",
    "            print(i, j, matrix_rank, mat[i, j])\n",
    "            break\n",
    "print(mat)\n",
    "\n",
    "print(matrix_rank)"
   ],
   "metadata": {
    "collapsed": false,
    "pycharm": {
     "name": "#%%\n"
    }
   }
  },
  {
   "cell_type": "code",
   "execution_count": 48,
   "outputs": [
    {
     "name": "stdout",
     "output_type": "stream",
     "text": [
      "阶梯矩阵:\n",
      " [[1 0 0]\n",
      " [0 1 0]\n",
      " [0 0 1]]\n",
      "0 0 1 1\n",
      "1 1 2 1\n",
      "2 2 3 1\n",
      "[[1 0 0]\n",
      " [0 1 0]\n",
      " [0 0 1]]\n",
      "3\n"
     ]
    }
   ],
   "source": [
    "origin_mat = np.mat([\n",
    "    [1, 0, 0],\n",
    "    [0, 1, 0],\n",
    "    [0, 0, 1]\n",
    "])\n",
    "mat = SequentialGauss(origin_mat)\n",
    "\n",
    "matrix_rank = 0\n",
    "for i in range(mat.shape[0]):\n",
    "    for j in range(mat.shape[1]):\n",
    "        if mat[i, j] != 0:\n",
    "            matrix_rank += 1\n",
    "            print(i, j, matrix_rank, mat[i, j])\n",
    "            break\n",
    "print(mat)\n",
    "\n",
    "print(matrix_rank)"
   ],
   "metadata": {
    "collapsed": false,
    "pycharm": {
     "name": "#%%\n"
    }
   }
  },
  {
   "cell_type": "code",
   "execution_count": 49,
   "outputs": [
    {
     "data": {
      "text/plain": "matrix([[1, 0, 0],\n        [0, 1, 0],\n        [0, 0, 1]])"
     },
     "execution_count": 49,
     "metadata": {},
     "output_type": "execute_result"
    }
   ],
   "source": [
    "mat"
   ],
   "metadata": {
    "collapsed": false,
    "pycharm": {
     "name": "#%%\n"
    }
   }
  }
 ],
 "metadata": {
  "kernelspec": {
   "display_name": "Python 3",
   "language": "python",
   "name": "python3"
  },
  "language_info": {
   "codemirror_mode": {
    "name": "ipython",
    "version": 3
   },
   "file_extension": ".py",
   "mimetype": "text/x-python",
   "name": "python",
   "nbconvert_exporter": "python",
   "pygments_lexer": "ipython3",
   "version": "3.7.1"
  }
 },
 "nbformat": 4,
 "nbformat_minor": 1
}