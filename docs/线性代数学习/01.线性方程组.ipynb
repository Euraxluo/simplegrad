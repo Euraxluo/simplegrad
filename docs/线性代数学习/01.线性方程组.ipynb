{
 "cells": [
  {
   "cell_type": "markdown",
   "metadata": {
    "pycharm": {
     "name": "#%% md\n"
    }
   },
   "source": [
    "# 概述\n",
    "线性方程组是线性代数的核心。我们会介绍有关线性方程组的一些基本却又重要的概念，以及求解一个线性方程组的一个系统方法（高斯消元）.\n",
    "## 1.线性方程组\n",
    "包含未知数$$x_{1},x_{2},\\cdots,x_{n}$$\n",
    "\n",
    "的一个**线性方程**如下所示：\n",
    "\n",
    "$$a_{1}x_{1}+a_{2}x_{2}+\\cdots+a_{n}x_{n}=b$$\n",
    "\n",
    "而**线性方程组**是由一个或多个包含相同变量$$x_{1},x_{2},\\cdots,x_{n}$$的线性方程组成的，例如：\n",
    "\n",
    "$$\\begin{equation}\n",
    "\\begin{cases}\n",
    "x_{1}-2x_{2}+x_{3}=0\\\\\\\\\n",
    "x_{2}-4x_{3}=4\\\\\\\\\n",
    "x_{3}=3.\n",
    "\\end{cases}\n",
    "\\end{equation}$$\n",
    "\n",
    "线性方程组的一组解就是一组数$(s_{1},s_{2},\\cdots,s_{n})$，用这组数替代线性方程组中的$x_{1},x_{2},\\cdots,x_{n}$时方程两边成立。方程组所有的解称为该线性方程组的**解集**。\n",
    "$\\quad$若一个线性方程组有解（唯一解或无穷多解），我们称这个线性方程组是**相容的**；若无解，则称它为**不相容的**。\n",
    "$\\quad$线性方程组包含的主要信息可以通过**矩阵**来表示，以上式为例子，我们可以将原方程组写为\n",
    "\n",
    "$$\\begin{equation}\n",
    "\\begin{cases}\n",
    "1*x_{1}-2*x_{2}+1*x_{3}=0\\\\\\\\\n",
    "0*x_{1}+1*x_{2}-4*x_{3}=4\\\\\\\\\n",
    "0*x_{1}+0*x_{2}+1*x_{3}=3.\n",
    "\\end{cases}\n",
    "\\end{equation}$$\n",
    "\n",
    "将每一个变量的系数写在对齐的一列中，形成**系数矩阵**：\n",
    "\n",
    "$$\\left[\n",
    "\\begin{matrix}\n",
    "   1 & -2 & 1\\\\\\\\\n",
    "   0 & 1 & -4\\\\\\\\\n",
    "   0 & 0 & 1\\\\\\\\\n",
    "  \\end{matrix}\n",
    "  \\right]$$\n",
    "\n",
    "如果我们把系数和等式右边的常数写在一个矩阵，我们称之为**增广矩阵**，如下所示：\n",
    "\n",
    "$$\\left[\n",
    "\\begin{matrix}\n",
    "   1 & -2 & 1 & 0\\\\\\\\\n",
    "   0 & 1 & -4 & 4\\\\\\\\\n",
    "   0 & 0 & 1 & 3\\\\\\\\\n",
    "  \\end{matrix}\n",
    "  \\right]$$\n",
    "\n",
    "\n",
    "## 2.高斯消元法求解线性方程组\n",
    "$\\quad$每一个学过线性代数的学生都学过高斯消元，它可被用于求解线性方程组、求逆矩阵等。算法主要思路就是对一个矩阵进行一系列**初等行变换**，将其转换为一个**阶梯型矩阵**进而求解。\n",
    "$\\quad$阶梯型矩阵的形式如下图所示。其中阶梯型矩阵的每一行的首个非零元素我们称之为**主元**，主元所在的列称之为**主元列**。阶梯型矩阵中主元所在列，主元以下全为0；某一行的主元所在列位于前一行主元的右边。\n",
    "\n",
    "<img src=\"./_image/1_1.jpg\" width=\"300\" height=\"150\" />\n",
    "<img src=\"./_image/1_2.png\" width=\"300\" height=\"150\" />\n",
    "\n",
    "$\\quad$矩阵的初等行变换包括以下三个操作。当一个矩阵A经过一系列初等行变化变为矩阵B，它们是**行等价**的；两个线性方程组的增广矩阵行等价时，它们的解集是相同的。\n",
    "* （倍加变换）把某一行换成它本身与另一行的倍数的和；\n",
    "* （对换变换）把两行对换；\n",
    "* （倍乘变换）把某一行的所有元素乘以同一个非零数。\n",
    "\n",
    "### 2.1算法流程\n",
    "$\\quad$我们先前提及过，高斯消元的主要思路是借助初等行变换将原增广矩阵行化简为一个阶梯型矩阵。我们通过一个例子来讲解算法的具体流程。\n",
    "\n",
    "$$\\left[\n",
    "\\begin{matrix}\n",
    "   0 & -3 & -6 & 4 & 9\\\\\\\\\n",
    "   -1 & -2 & -1 & 3 & 1\\\\\\\\\n",
    "   -2 & -3 & 0 & 3 & -1\\\\\\\\\n",
    "   1 & 4 & 5 & -9 & -7\n",
    "  \\end{matrix}\n",
    "  \\right]$$\n",
    "\n",
    "1.先求第一行主元。找出第一行、第一列中绝对值最大元素所在行i，接着交换第i行和第一行。第一行通过倍加变换、倍乘变换将第一行第一列以下的元素清0：\n",
    "\n",
    "<img src=\"./_image/1_3.png\" width=\"500\" height=\"250\" />\n",
    "\n",
    "2.求第二行主元。找出第二行、第二列中绝对值最大元素所在行i，接着交换第i行和第二行。第二行通过倍加变换、倍乘变换将第二行第二列以下的元素清0：\n",
    "\n",
    "<img src=\"./_image/1_4.png\" width=\"500\" height=\"250\" />\n",
    "\n",
    "3.以此类推，直至矩阵为一个阶梯型矩阵。如果消元过程中所求位置为0，则切换至下一列继续消元；过程中如果已经为阶梯型矩阵则结束算法。\n",
    "$\\quad$最后推得下式。将增广矩阵还原回线性方程组，我们称对应于主元列的变量$x_{1},x_{2},x_{4}$为**基本变量**，其他变量$x_{3}$为**自由变量**。\n",
    "\n",
    "$$\\left[\n",
    "   \\begin{matrix}\n",
    "   -2 & -3 & 0 & 3 & -1\\\\\\\\\n",
    "   0 & 5 & 10 & -15 & -15\\\\\\\\\n",
    "   0 & 0 & 0 & -25 & 0\\\\\\\\\n",
    "   0 & 0 & 0 & 0 & 0\n",
    "  \\end{matrix}\n",
    "  \\right]\n",
    "  \\begin{equation}\n",
    "  \\Rightarrow\n",
    "\\begin{cases}\n",
    "-2x_{1}-3x_{2}+3x_{4}=-1\\\\\\\\\n",
    "5x_{2}+10x_{3}-15x_{4}=-15\\\\\\\\\n",
    "-25x_{4}=0.\n",
    "\\end{cases}\n",
    "\\end{equation}$$\n",
    "\n",
    "$\\quad$算法中选择一列中绝对值最大的元素作为主元，是为了减少计算中的舍入误差。解矩阵方程还可用[克拉默法则](《线性代数及其应用》笔记04.行列式及其几何意义.ipynb)。\n"
   ],
   "outputs": []
  },
  {
   "cell_type": "markdown",
   "source": [
    "###　线性方程组的思考\n",
    "系数矩阵可以看为矩阵变换$A$，未知量看做向量$\\^x$,而常数项矩阵视为变换的结果向量$\\^v$\n",
    "即　本质上求解线性方程组，就是找到一些向量，他们能够通过线性变换$A$转化为$\\^v$"
   ],
   "metadata": {
    "collapsed": false
   }
  },
  {
   "cell_type": "markdown",
   "source": [
    "### 2.2 python 实现二维矩阵高斯消元法求解线性方程组\n",
    "![](https://gitee.com/Euraxluo/images/raw/master/pycharm/MIK-w1QPu8.png)"
   ],
   "metadata": {
    "collapsed": false
   }
  },
  {
   "cell_type": "code",
   "execution_count": null,
   "outputs": [],
   "source": [
    "# 系数矩阵\n",
    "import numpy as np\n",
    "import copy\n",
    "\n",
    "\n",
    "def augmented_matrix(coefficient_matrix, result_matrix):\n",
    "    \"\"\"\n",
    "    输入系数矩阵的结果，得到增广矩阵\n",
    "    :param coefficient_matrix:\n",
    "    :param result_matrix:\n",
    "    :return:\n",
    "    \"\"\"\n",
    "    c = np.mat(coefficient_matrix, dtype=float)\n",
    "    r = np.mat(result_matrix)\n",
    "    return np.hstack((c, r.T))\n",
    "\n",
    "\n",
    "def SequentialGauss(augmented_matrix):\n",
    "    \"\"\"\n",
    "    顺序高斯消元法-消元计算\n",
    "    :param mat:\n",
    "    :return:\n",
    "    \"\"\"\n",
    "    mat = augmented_matrix.copy()\n",
    "    for i in range(0, (mat.shape[0]) - 1):\n",
    "        # 行变换\n",
    "        col = (mat[i:, i]).copy()\n",
    "        max_arg = np.multiply(col, col).argmax()\n",
    "        mat[[i, i + max_arg], :] = mat[[i + max_arg, i], :]\n",
    "        if mat[i, i] == 0:\n",
    "            continue\n",
    "        else:\n",
    "            # 将除i行后的每一行，都进行scala，到相同的尺度\n",
    "            # scala 方式如下，选择 (j,i)/(i,i) 得到 行间的系数，\n",
    "            # scala的行 减去该系数和第i行的乘积\n",
    "            for j in range(i + 1, mat.shape[0]):\n",
    "                mat[j:j + 1, :] = mat[j:j + 1, :] - (mat[j, i] / mat[i, i]) * mat[i, :]\n",
    "    print(\"阶梯矩阵:\\n\", mat)\n",
    "    return mat\n",
    "\n",
    "\n",
    "def revert(ladder_matrix):\n",
    "    \"\"\"\n",
    "    回代计算\n",
    "    :param ladder_matrix: 阶梯矩阵\n",
    "    :return:\n",
    "    \"\"\"\n",
    "    # 结果矩阵,长度代表X量个数\n",
    "    result = np.zeros(ladder_matrix.shape[0], dtype=float)\n",
    "    x_n = len(result) - 1\n",
    "    print(\"X\\n\", result)\n",
    "\n",
    "    # 获取系数矩阵A\n",
    "    a = ladder_matrix[:, 0:-1]\n",
    "    print(\"A\\n\", a)\n",
    "    a_n = a.shape[1] - 1\n",
    "\n",
    "    # 获取常数矩阵b\n",
    "    b = ladder_matrix[:, -1]\n",
    "    print(\"b\\n\", b)\n",
    "\n",
    "    # Xn = bn/ann\n",
    "    result[x_n] = b[x_n, 0] / a[x_n, a_n]\n",
    "    # Xi = (b_i_i - sum([ a_i_j X_(i+1) for i in i+1...n]))\n",
    "    for i in range(x_n - 1, -1, -1):\n",
    "        result[i] = (b[i, 0] - np.sum(\n",
    "            np.multiply(a[i, i + 1:], np.mat(result[i + 1:]))\n",
    "        )) / a[i, i]\n",
    "    return result"
   ],
   "metadata": {
    "collapsed": false,
    "pycharm": {
     "name": "#%%\n"
    }
   }
  },
  {
   "cell_type": "code",
   "execution_count": null,
   "outputs": [],
   "source": [
    "mat = augmented_matrix([\n",
    "    [-2, -3, -11, -5],\n",
    "    [1, 1, 5, 2],\n",
    "    [-2, -1, -3, -2],\n",
    "    [1, 1, 3, 4],\n",
    "], [-2, 1, -3, -3])\n",
    "stair_matrices = SequentialGauss(mat)\n",
    "revert(stair_matrices)"
   ],
   "metadata": {
    "collapsed": false,
    "pycharm": {
     "name": "#%%\n"
    }
   }
  },
  {
   "cell_type": "code",
   "execution_count": null,
   "outputs": [],
   "source": [
    "mat = augmented_matrix([\n",
    "    [2, 3, 11, 5],\n",
    "    [1, 1, 5, 2],\n",
    "    [2, 1, 3, 2],\n",
    "    [1, 1, 3, 4],\n",
    "], [2, 1, 3, -3])\n",
    "stair_matrices = SequentialGauss(mat)\n",
    "revert(stair_matrices)"
   ],
   "metadata": {
    "collapsed": false,
    "pycharm": {
     "name": "#%%\n"
    }
   }
  },
  {
   "cell_type": "code",
   "execution_count": null,
   "outputs": [],
   "source": [
    "mat = augmented_matrix([\n",
    "    [-3, 2, 6],\n",
    "    [10, -7, 0],\n",
    "    [5, -1, 5],\n",
    "], [4, 7, 6])\n",
    "stair_matrices = SequentialGauss(mat)\n",
    "revert(stair_matrices)"
   ],
   "metadata": {
    "collapsed": false,
    "pycharm": {
     "name": "#%%\n"
    }
   }
  },
  {
   "cell_type": "code",
   "execution_count": null,
   "outputs": [],
   "source": [
    "mat = augmented_matrix([\n",
    "    [0.02, 0.01, 0, 0],\n",
    "    [1, 2, 1, 0],\n",
    "    [0, 1, 2, 1],\n",
    "    [0, 0, 100, 200],\n",
    "], [0.02, 1, 4, 800])\n",
    "stair_matrices = SequentialGauss(mat)\n",
    "revert(stair_matrices)"
   ],
   "metadata": {
    "collapsed": false,
    "pycharm": {
     "name": "#%%\n"
    }
   }
  },
  {
   "cell_type": "code",
   "execution_count": null,
   "outputs": [],
   "source": [
    "mat = augmented_matrix([\n",
    "    [0.02, 0.01, 0, 0],\n",
    "    [-1, -2, -1, -0],\n",
    "    [0, 1, 2, 1],\n",
    "    [0, 0, 100, 200],\n",
    "], [0.02, -1, 4, 800])\n",
    "stair_matrices = SequentialGauss(mat)\n",
    "revert(stair_matrices)"
   ],
   "metadata": {
    "collapsed": false,
    "pycharm": {
     "name": "#%%\n"
    }
   }
  },
  {
   "cell_type": "code",
   "execution_count": 25,
   "outputs": [
    {
     "name": "stdout",
     "output_type": "stream",
     "text": [
      "[[-5.  2.  0.]\n",
      " [ 2. -1.  1.]\n",
      " [ 0.  1. -5.]]\n",
      "[[ 2.72016905]\n",
      " [-0.36101376]\n",
      " [-3.63526931]]\n",
      "[-0.  0.  0.]\n",
      "阶梯矩阵:\n",
      " [[-5.00000000e+00  2.00000000e+00  0.00000000e+00  0.00000000e+00]\n",
      " [ 0.00000000e+00  1.00000000e+00 -5.00000000e+00  0.00000000e+00]\n",
      " [ 0.00000000e+00  0.00000000e+00  2.22044605e-16  0.00000000e+00]]\n",
      "X\n",
      " [0. 0. 0.]\n",
      "A\n",
      " [[-5.00000000e+00  2.00000000e+00  0.00000000e+00]\n",
      " [ 0.00000000e+00  1.00000000e+00 -5.00000000e+00]\n",
      " [ 0.00000000e+00  0.00000000e+00  2.22044605e-16]]\n",
      "b\n",
      " [[0.]\n",
      " [0.]\n",
      " [0.]]\n"
     ]
    },
    {
     "data": {
      "text/plain": "array([-0.,  0.,  0.])"
     },
     "execution_count": 25,
     "metadata": {},
     "output_type": "execute_result"
    }
   ],
   "source": [
    "A = np.mat([\n",
    "    [1, 0],\n",
    "    [2, 1],\n",
    "    [0, 1],\n",
    "])\n",
    "AAT = np.dot(A, A.T)\n",
    "a = AAT - 6 * np.eye(AAT.shape[0])\n",
    "\n",
    "print(a)\n",
    "x = np.mat(\n",
    "    [[-3.65148372e-01], [4.47213595e-01], [8.16496581e-01]]\n",
    ")\n",
    "print(np.dot(a, x))\n",
    "\n",
    "res = np.linalg.solve(a, [0, 0, 0])\n",
    "print(res)\n",
    "mat = augmented_matrix(a, [0, 0, 0])\n",
    "stair_matrices = SequentialGauss(mat)\n",
    "revert(stair_matrices)"
   ],
   "metadata": {
    "collapsed": false,
    "pycharm": {
     "name": "#%%\n"
    }
   }
  },
  {
   "cell_type": "code",
   "execution_count": null,
   "outputs": [],
   "source": [
    "x = np.mat(\n",
    "    [[0], [0], [0]]\n",
    ")\n",
    "np.dot(np.linalg.inv(a),x)"
   ],
   "metadata": {
    "collapsed": false,
    "pycharm": {
     "name": "#%%\n"
    }
   }
  },
  {
   "cell_type": "code",
   "execution_count": null,
   "outputs": [],
   "source": [],
   "metadata": {
    "collapsed": false,
    "pycharm": {
     "name": "#%%\n"
    }
   }
  }
 ],
 "metadata": {
  "kernelspec": {
   "display_name": "Python 3",
   "language": "python",
   "name": "python3"
  },
  "language_info": {
   "codemirror_mode": {
    "name": "ipython",
    "version": 3
   },
   "file_extension": ".py",
   "mimetype": "text/x-python",
   "name": "python",
   "nbconvert_exporter": "python",
   "pygments_lexer": "ipython3",
   "version": "3.8.3"
  }
 },
 "nbformat": 4,
 "nbformat_minor": 4
}