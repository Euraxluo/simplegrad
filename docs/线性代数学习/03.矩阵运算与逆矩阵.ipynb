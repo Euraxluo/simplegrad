{
 "cells": [
  {
   "cell_type": "markdown",
   "metadata": {
    "collapsed": true
   },
   "source": [
    "# 1.矩阵运算\n",
    "$\\quad$若$A$是$m\\times n$，即有$m$行$n$列的矩阵。$A$的第$i$行第$j$列元素用$a_{ij}$表示，称为$A$的$(i,j)$元素。  \n",
    "$\\quad$特别地，我们介绍几个特殊矩阵：  \n",
    "* 单位矩阵$I_{n}$，对角线上元素全为1，非对角线上元素全为0；\n",
    "* 对角矩阵，是一个方阵，它的非对角线元素全为0。单位矩阵也是一个对角矩阵；\n",
    "* 零矩阵，矩阵元素全为0。  \n",
    "\n",
    "$\\quad$若$A,B,C$是相同维数的矩阵，$r$与$s$为一实数，则有：\n",
    "\n",
    "<img src=\"./_image/3_1.png\" width=\"200\" height=\"150\"/>  \n",
    "\n",
    "$\\quad$设$A$为$m\\times n$矩阵，$B,C$维数使下列各式的乘积有定义（矩阵$A,B$相乘，前者的列数等于后者的行数）。关于矩阵乘法则有：\n",
    "\n",
    "<img src=\"./_image/3_2.png\" width=\"250\" height=\"200\"/>  \n",
    "\n",
    "$\\quad$矩阵的**乘幂**表示为$A^{k}$，其中$A$是$n\\times n$矩阵，$A^{k}$表示为$k$个$A$的乘积$A^{k}=A\\cdots A$。$A^{0}$为单位矩阵。  \n",
    "$\\quad$矩阵的**转置**表示为$A^{T}$，其中$A$是一个$m\\times n$矩阵，则$A^{T}$是一个$n\\times m$矩阵，$A^{T}$的列是由$A$的行构成的。设$A,B$为矩阵，其维数使下列和与积有定义，则有：\n",
    "\n",
    "<img src=\"./_image/3_3.png\" width=\"200\" height=\"150\"/>  \n",
    "\n",
    "# 2.逆矩阵\n",
    "$\\quad$对于一个矩阵$A$来说，若存在一个矩阵$C$使得下式成立：\n",
    "\n",
    "$$AC=I,CA=I$$\n",
    "\n",
    "那么矩阵$C$称为矩阵$A$的**逆矩阵**，若这样的$C$存在，我们称矩阵$A$是**可逆矩阵**。我们将$C$写为$A^{-1}$，于是\n",
    "\n",
    "$$AA^{-1}=I,A^{-1}A=I$$\n",
    "\n",
    "不可逆矩阵也称之为**奇异矩阵**，可逆矩阵也称为**非奇异矩阵**。可逆矩阵一定是方阵。  \n",
    "$\\quad$下面是有关可逆矩阵的基本定理，假设$A$可逆：\n",
    "\n",
    "<img src=\"./_image/3_5.png\" width=\"300\" height=\"200\"/>  \n",
    "\n",
    "## 2.1伴随矩阵求逆矩阵\n",
    "$\\quad$伴随矩阵求矩阵的逆是一种常用的手算算法，是借助高斯消元的一种算法。假设求矩阵$A$的逆矩阵，将同维度的单位矩阵$I$与$A$构成增广矩阵$[A \\quad I]$，要么有一系列行变换把$A$变成$I$，同时$I$变成$A^{-1}$；要么A是不可逆的。例如：\n",
    "\n",
    "<img src=\"./_image/3_4.png\" width=\"300\" height=\"200\"/>  \n",
    "\n",
    "伴随矩阵求逆矩阵时间复杂度过大，只适合于手算；计算机中求逆矩阵会借助矩阵的[$LUP$分解](《线性代数及其应用》笔记16.矩阵分解-LU分解.ipynb)。还可以通过[逆矩阵公式](《线性代数及其应用》笔记04.行列式及其几何意义.ipynb)求$A^{-1}$。\n",
    "\n",
    "## 2.2逆矩阵求解方程\n",
    "$\\quad$求出一个矩阵的逆矩阵有啥么用？可逆矩阵的一个重要的性质就是求解矩阵方程。  \n",
    "$\\quad$若$A$可逆，则对每一个$\\Bbb{R}^{n}$中的$\\mathbf{b}$，方程$A\\mathbf{x}=\\mathbf{b}$都有唯一解：$\\mathbf{x}=A^{-1}\\mathbf{b}$。  \n",
    "$\\quad$我们举例如下：\n",
    "\n",
    "<img src=\"./_image/3_6.png\" width=\"450\" height=\"450\"/>\n",
    "\n",
    "## 2.3可逆矩阵定理\n",
    "$\\quad$我们将逆矩阵和线性方程组的概念结合一起，称为可逆矩阵定理。设$A$为$n\\times n$矩阵：\n",
    "\n",
    "<img src=\"./_image/3_7.png\" width=\"500\" height=\"250\"/>  \n",
    "\n",
    "$\\quad$利用可逆矩阵定理，我们可以从不同的角度去判断一个矩阵$A$是否可逆，例如给出一个矩阵$A$:\n",
    "\n",
    "$$\n",
    "A=\\begin{bmatrix}\n",
    "   1 & 0 & -2\\\\\n",
    "   3 & 1 & -2\\\\\n",
    "   -5 & -1 & 9\n",
    "  \\end{bmatrix} \n",
    "$$\n",
    "\n",
    "对$A$做初等行变换，判断主元个数：\n",
    "\n",
    "$$A \\sim \\begin{bmatrix}\n",
    "   1 & 0 & -2\\\\\n",
    "   0 & 1 & 4\\\\\n",
    "   0 & 0 & 3\n",
    "  \\end{bmatrix} \n",
    "$$\n",
    "\n",
    "$A$有三个主元，故$A$是可逆的。"
   ]
  },
  {
   "cell_type": "code",
   "execution_count": 8,
   "metadata": {
    "pycharm": {
     "name": "#%%\n"
    }
   },
   "outputs": [],
   "source": [
    "# python 求解高斯消元法求解二维矩阵的逆矩阵"
   ]
  },
  {
   "cell_type": "code",
   "execution_count": 9,
   "outputs": [
    {
     "name": "stdout",
     "output_type": "stream",
     "text": [
      "消解结果:\n",
      " [[ 1.  0.  0. 10. -6.  1.]\n",
      " [ 0.  1.  0. -2.  1.  0.]\n",
      " [ 0.  0.  1. -7.  5. -1.]]\n",
      "逆矩阵:\n",
      " [[10. -6.  1.]\n",
      " [-2.  1.  0.]\n",
      " [-7.  5. -1.]]\n"
     ]
    }
   ],
   "source": [
    "# 系数矩阵\n",
    "import numpy as np\n",
    "import copy\n",
    "\n",
    "\n",
    "def eye_matrix(matrix):\n",
    "    \"\"\"\n",
    "    输入矩阵,获取 单位矩阵和原矩阵\n",
    "    :param matrix:\n",
    "    :return:\n",
    "    \"\"\"\n",
    "    m = np.mat(matrix, dtype=float)\n",
    "    return m, np.eye(min(m.shape)),\n",
    "\n",
    "\n",
    "def UnitaryMatrixGauss(matrix, eye):\n",
    "    \"\"\"\n",
    "    顺序高斯消元法-将矩阵左侧消解为单位矩阵\n",
    "    :param mat:\n",
    "    :return:\n",
    "    \"\"\"\n",
    "    mat = copy.deepcopy(np.hstack((matrix, eye)))\n",
    "    for c in range(eye.shape[1]):\n",
    "        if mat[c, c] != 1:\n",
    "            mat[c, :] = mat[c, :] * (mat[c, c] / 1)\n",
    "        for r in range(eye.shape[0]):\n",
    "            if c != r:\n",
    "                mat[r:r + 1, :] = mat[r:r + 1, :] - (mat[r, c] / mat[c, c]) * mat[c, :]\n",
    "\n",
    "    print(\"消解结果:\\n\", mat)\n",
    "    return mat\n",
    "\n",
    "\n",
    "mat, eye = eye_matrix([\n",
    "    [1, 1, 1],\n",
    "    [2, 3, 2],\n",
    "    [3, 8, 2],\n",
    "])\n",
    "\n",
    "result = UnitaryMatrixGauss(mat, eye)\n",
    "eye, inverse = np.hsplit(result, [eye.shape[0]])\n",
    "print(\"逆矩阵:\\n\", inverse)"
   ],
   "metadata": {
    "collapsed": false,
    "pycharm": {
     "name": "#%%\n"
    }
   }
  },
  {
   "cell_type": "code",
   "execution_count": 10,
   "outputs": [
    {
     "name": "stdout",
     "output_type": "stream",
     "text": [
      "消解结果:\n",
      " [[2.50000000e+01 0.00000000e+00 0.00000000e+00 5.62949953e+16\n",
      "  1.40737488e+17 2.81474977e+16]\n",
      " [0.00000000e+00 4.00000000e-02 0.00000000e+00 2.25179981e+14\n",
      "  5.62949953e+14 1.12589991e+14]\n",
      " [0.00000000e+00 0.00000000e+00 3.15544362e-30 3.55271368e-15\n",
      "  8.88178420e-15 1.77635684e-15]]\n",
      "逆矩阵:\n",
      " [[5.62949953e+16 1.40737488e+17 2.81474977e+16]\n",
      " [2.25179981e+14 5.62949953e+14 1.12589991e+14]\n",
      " [3.55271368e-15 8.88178420e-15 1.77635684e-15]]\n"
     ]
    }
   ],
   "source": [
    "A = np.mat([\n",
    "    [1, 0],\n",
    "    [2, 1],\n",
    "    [0, 1],\n",
    "])\n",
    "AAT = np.dot(A, A.T)\n",
    "a = AAT - 6 * np.eye(AAT.shape[0])\n",
    "\n",
    "mat, eye = eye_matrix(a)\n",
    "\n",
    "result = UnitaryMatrixGauss(mat, eye)\n",
    "eye, inverse = np.hsplit(result, [eye.shape[0]])\n",
    "print(\"逆矩阵:\\n\", inverse)"
   ],
   "metadata": {
    "collapsed": false,
    "pycharm": {
     "name": "#%%\n"
    }
   }
  },
  {
   "cell_type": "code",
   "execution_count": 12,
   "outputs": [
    {
     "data": {
      "text/plain": "matrix([[3.60287970e+15, 9.00719925e+15, 1.80143985e+15],\n        [9.00719925e+15, 2.25179981e+16, 4.50359963e+15],\n        [1.80143985e+15, 4.50359963e+15, 9.00719925e+14]])"
     },
     "execution_count": 12,
     "metadata": {},
     "output_type": "execute_result"
    }
   ],
   "source": [],
   "metadata": {
    "collapsed": false,
    "pycharm": {
     "name": "#%%\n"
    }
   }
  },
  {
   "cell_type": "code",
   "execution_count": null,
   "outputs": [],
   "source": [],
   "metadata": {
    "collapsed": false,
    "pycharm": {
     "name": "#%%\n"
    }
   }
  }
 ],
 "metadata": {
  "kernelspec": {
   "display_name": "Python 3",
   "language": "python",
   "name": "python3"
  },
  "language_info": {
   "codemirror_mode": {
    "name": "ipython",
    "version": 3
   },
   "file_extension": ".py",
   "mimetype": "text/x-python",
   "name": "python",
   "nbconvert_exporter": "python",
   "pygments_lexer": "ipython3",
   "version": "3.7.1"
  }
 },
 "nbformat": 4,
 "nbformat_minor": 1
}