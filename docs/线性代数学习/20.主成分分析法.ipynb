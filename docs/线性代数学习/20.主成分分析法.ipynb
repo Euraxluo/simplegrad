{
 "cells": [
  {
   "cell_type": "markdown",
   "metadata": {
    "collapsed": true,
    "pycharm": {
     "name": "#%% md\n"
    }
   },
   "source": [
    "# 主成分分析法\n",
    "$\\quad$我们在介绍[线性变换](《线性代数及其应用》笔记08.矩阵的几何解释-线性变换.ipynb)的时候提及过，矩阵相乘是可以对数据做降维的。pca的目的就是对数据做一次投影，将高维数据投影至低维，同时保持数据集中的对方差贡献最大的特征。\n",
    "## 1.协方差矩阵\n",
    "$\\quad$我们将待处理的数据写成一个矩阵，称之为**观测矩阵**，矩阵中每一行代表一个属性，每一列代表一个观测样本。例如一批数据是关于$N$个大学生的身高和体重的，$\\mathbf{X}_{i}$代表观测向量。那么观测矩阵的形式为：\n",
    "\n",
    "<img src=\"./_image/20_1.png\" width=\"100\" height=\"50\" />  \n",
    "\n",
    "可以看到每个样本均可看成是一个向量$\\mathbf{X}_{i}$，$\\mathbf{X}_{i}=(x_1,…,x_N)$。  \n",
    "$\\quad$令$[\\mathbf{X}_{1} \\cdots \\mathbf{X}_{N}]$是一个$p\\times N$观测矩阵，观测向量的样本均值$M$为：\n",
    "\n",
    "$$\\mathbf{M}=\\frac{1}{N}(\\mathbf{X}_{1}+\\cdots+\\mathbf{X}_{N})$$\n",
    "\n",
    "样本均值是所有数据点的”中心“。对$k=1,\\cdots,N$，令：\n",
    "\n",
    "$$\n",
    "B=\\begin{bmatrix}\\mathbf{X}_{k}-\\mathbf{M} & \\cdots & \\mathbf{X}_{N}-\\mathbf{M}\\end{bmatrix}=\n",
    "\\begin{bmatrix}\\hat{\\mathbf{X}}_{1} & \\cdots & \\hat{\\mathbf{X}}_{N}\\end{bmatrix}\n",
    "$$\n",
    "\n",
    "$B$具有零样本均值，这样的$B$称之为**平均偏差形式**。举例：  \n",
    "\n",
    "<img src=\"./_image/20_4.png\" width=\"400\" height=\"350\" />  \n",
    "\n",
    "$\\quad$**(样本)协方差矩阵**是一个$p\\times p$矩阵$S$，其定义为：\n",
    "\n",
    "$$S=\\frac{1}{N-1}BB^{T}$$\n",
    "\n",
    "$\\quad$其中$S$的对角线元素$s_{ii}$称为$x_i$的**方差**，是用于度量观测矩阵中第$i$种属性$x_i$的分散性。$S$的非对角线元素$s_{ij}$称为$x_i$和$x_j$的**协方差**，协方差描述的是$x_i$和$x_j$同向趋势，如果是同向变化，协方差为正；如果是反向变化，协方差为负。当协方差衡量的是同一属性时，协方差就成了方差。  \n",
    "$\\quad$数据的总方差是指$S$上对角线方差的总和，我们称一个矩阵对角线元素之和为**矩阵的迹**，记作$tr(S)$。    \n",
    "## 2.pca算法流程\n",
    "$\\quad$算法流程：\n",
    "1. 对所有样本进行中心化，并计算协方差矩阵；  \n",
    "2. 对协方差矩阵进行特征值分解；  \n",
    "3. 取前d大的特征值对应的特征向量（主成分）$\\{\\mathbf{u}_{1},\\cdots,\\mathbf{u}_{d}\\}$构成一个投影矩阵$U$；  \n",
    "4. 计算$Y=U^{T}X$完成降维。  \n",
    "\n",
    "pca的目标是对数据做降维，该数据变换需满足以下性质：\n",
    "1. 得到的新属性，两两之间的协方差为0；\n",
    "2. 第一个属性捕获尽量多的数据方差，在满足正交性的前提下，每个后继属性捕获尽可能多的剩余方差。  \n",
    "\n",
    "为啥要捕获尽量多的数据方差呢？因为一组数据中某一个属性如果方差为0，表明该属性没有研究价值；且如果变换后的属性方差尽量大，说明属性本身的蕴含的信息减少的不多。  \n",
    "\n",
    "<img src=\"./_image/20_5.png\" width=\"400\" height=\"350\" />  \n",
    "\n",
    "## 3.pca算法证明\n",
    "$\\quad$我们来推导为啥计算协方差矩阵的特征向量与特征值就可以符合我们所说的性质。要对数据做投影，要找到一组基，基与原数据矩阵作一次矩阵相乘即可完成投影，这组基假定为$U=\\begin{bmatrix}\\mathbf{u}_{1} & \\cdots & \\mathbf{u}_{d}\\end{bmatrix}$，是一个单位正交基，我们所求的即为$U$，下面的证明将会说明$U$如何得到：\n",
    "<img src=\"./_image/20_2.png\" width=\"450\" height=\"400\" />  \n",
    "<img src=\"./_image/20_3.png\" width=\"450\" height=\"400\" />  \n",
    "可以惊奇的发现，这不就是特征值和特征向量吗？因此，我们只需要求出$X$的协方差矩阵的特征值和特征向量，接着对特征值排序，取前$d$个特征向量（主成分）构成$U=\\begin{bmatrix}\\mathbf{u}_{1} & \\cdots & \\mathbf{u}_{d}\\end{bmatrix}$即可完成pca。  \n",
    "## 4.pca与svd\n",
    "$\\quad$设$X$为具有平均偏差形式的矩阵。pca的一个关键步骤就是求出协方差矩阵$\\frac{1}{N-1}XX^{T}$的特征值和特征向量。我们联系前面所学的[奇异值分解](《线性代数及其应用》笔记18.矩阵分解-奇异值分解.ipynb)，对于一个矩阵$X$，可以分解为:\n",
    "\n",
    "$$X=U\\varSigma V^{T}$$\n",
    "\n",
    "代入计算有：\n",
    "\n",
    "$$XX^{T}=(U\\varSigma V^{T})(U\\varSigma V^{T})^{T}=U\\varSigma^{2}U^{T}$$\n",
    "\n",
    "结合对角化的知识，我们可以知道$U$的列向量是$XX^{T}$的特征向量，$\\varSigma^{2}$是$XX^{T}$的非零特征值组成的矩阵。最后再结合回主成分分析法，协方差矩阵$\\frac{1}{N-1}XX^{T}$的特征值和特征向量（主成分）其实为$X$的奇异值的平方、左奇异向量。   \n",
    "$\\quad$故对一份观测矩阵进行pca降维，中心化后为$X$，对$X$进行奇异值分解$X=U\\varSigma V^{T}$，$U$即为主成分，比较奇异值的平方的大小来选取主成分即可完成算法。"
   ]
  },
  {
   "cell_type": "code",
   "execution_count": 17,
   "outputs": [],
   "source": [
    "import numpy as np\n",
    "import matplotlib.pyplot as plt"
   ],
   "metadata": {
    "collapsed": false,
    "pycharm": {
     "name": "#%%\n"
    }
   }
  },
  {
   "cell_type": "code",
   "execution_count": 18,
   "outputs": [
    {
     "data": {
      "text/plain": "<Figure size 432x288 with 1 Axes>",
      "image/png": "[encoded data removed]"
     },
     "metadata": {
      "needs_background": "light"
     },
     "output_type": "display_data"
    }
   ],
   "source": [
    "X = np.empty((100, 2))\n",
    "X[:, 0] = np.random.uniform(0., 100, size=100)\n",
    "X[:, 1] = 0.75 * X[:, 0] + 3. + np.random.normal(0, 10., size=100)\n",
    "#有线性关系，降维效果明显\n",
    "plt.scatter(X[:, 0], X[:, 1])\n",
    "plt.show()"
   ],
   "metadata": {
    "collapsed": false,
    "pycharm": {
     "name": "#%%\n"
    }
   }
  },
  {
   "cell_type": "markdown",
   "source": [
    "#### 1.零均值化(中心化)\n",
    "每个样本均可看成是一个向量$\\mathbf{X}_{i}$，$\\mathbf{X}_{i}=(x_1,…,x_N)$。\n",
    "$\\quad$令$[\\mathbf{X}_{1} \\cdots \\mathbf{X}_{N}]$是一个$p\\times N$观测矩阵，观测向量的样本均值$M$为：\n",
    "\n",
    "$$\\mathbf{M}=\\frac{1}{N}(\\mathbf{X}_{1}+\\cdots+\\mathbf{X}_{N})$$\n",
    "\n",
    "样本均值是所有数据点的”中心“。对$k=1,\\cdots,N$，令：\n",
    "\n",
    "$$\n",
    "B=\\begin{bmatrix}\\mathbf{X}_{k}-\\mathbf{M} & \\cdots & \\mathbf{X}_{N}-\\mathbf{M}\\end{bmatrix}=\n",
    "\\begin{bmatrix}\\hat{\\mathbf{X}}_{1} & \\cdots & \\hat{\\mathbf{X}}_{N}\\end{bmatrix}\n",
    "$$\n",
    "\n",
    "demean。每个样本的每个特征减去这个特征的均值\n",
    "在demean后，样本的每个特征的mean都为0\n",
    "#### 2.求协方差\n",
    "1. numpy.cov\n",
    "2. X的协方差矩阵: $$\\frac{1}{N-1}X X^{T}$$"
   ],
   "metadata": {
    "collapsed": false,
    "pycharm": {
     "name": "#%% md\n"
    }
   }
  },
  {
   "cell_type": "code",
   "execution_count": 19,
   "outputs": [
    {
     "data": {
      "text/plain": "<Figure size 432x288 with 1 Axes>",
      "image/png": "[encoded data removed]"
     },
     "metadata": {
      "needs_background": "light"
     },
     "output_type": "display_data"
    }
   ],
   "source": [
    "#np.mean(X,axis=0)，第一维方向的mean{对两列计算均值，剩下第一位}\n",
    "def demean(X):\n",
    "    return X - np.mean(X, axis=0)\n",
    "\n",
    "\n",
    "X_demean = demean(X)  # 求X中心化\n",
    "plt.scatter(X_demean[:, 0], X_demean[:, 1])\n",
    "plt.show()  #可以看见，只是坐标轴变了"
   ],
   "metadata": {
    "collapsed": false,
    "pycharm": {
     "name": "#%%\n"
    }
   }
  },
  {
   "cell_type": "code",
   "execution_count": 19,
   "outputs": [],
   "source": [],
   "metadata": {
    "collapsed": false,
    "pycharm": {
     "name": "#%%\n"
    }
   }
  },
  {
   "cell_type": "code",
   "execution_count": 20,
   "outputs": [],
   "source": [
    "# 求协方差矩阵\n",
    "C = np.dot(X.T, X) / (X.shape[0] - 1)  # np.cov(X_demean)"
   ],
   "metadata": {
    "collapsed": false,
    "pycharm": {
     "name": "#%%\n"
    }
   }
  },
  {
   "cell_type": "markdown",
   "source": [
    "#### 3.(1)求协方差特征值和特征矩阵\n",
    "#### 3.(2)第二种方式是直接对中心化X进行奇异值分解"
   ],
   "metadata": {
    "collapsed": false,
    "pycharm": {
     "name": "#%% md\n"
    }
   }
  },
  {
   "cell_type": "code",
   "execution_count": 21,
   "outputs": [
    {
     "ename": "NameError",
     "evalue": "name 'math' is not defined",
     "output_type": "error",
     "traceback": [
      "\u001B[0;31m---------------------------------------------------------------------------\u001B[0m",
      "\u001B[0;31mNameError\u001B[0m                                 Traceback (most recent call last)",
      "\u001B[0;32m/tmp/ipykernel_20523/3103682107.py\u001B[0m in \u001B[0;36m<module>\u001B[0;34m\u001B[0m\n\u001B[1;32m      5\u001B[0m \u001B[0mt\u001B[0m \u001B[0;34m=\u001B[0m \u001B[0mnp\u001B[0m\u001B[0;34m.\u001B[0m\u001B[0msqueeze\u001B[0m\u001B[0;34m(\u001B[0m\u001B[0mt\u001B[0m\u001B[0;34m)\u001B[0m\u001B[0;34m\u001B[0m\u001B[0;34m\u001B[0m\u001B[0m\n\u001B[1;32m      6\u001B[0m \u001B[0meigenvectors\u001B[0m \u001B[0;34m=\u001B[0m \u001B[0mt\u001B[0m\u001B[0;34m[\u001B[0m\u001B[0;36m1\u001B[0m\u001B[0;34m:\u001B[0m\u001B[0;34m,\u001B[0m \u001B[0;34m:\u001B[0m\u001B[0;34m]\u001B[0m\u001B[0;34m\u001B[0m\u001B[0;34m\u001B[0m\u001B[0m\n\u001B[0;32m----> 7\u001B[0;31m \u001B[0mX_pac_w\u001B[0m \u001B[0;34m=\u001B[0m \u001B[0mnp\u001B[0m\u001B[0;34m.\u001B[0m\u001B[0marray\u001B[0m\u001B[0;34m(\u001B[0m\u001B[0mlist\u001B[0m\u001B[0;34m(\u001B[0m\u001B[0mmap\u001B[0m\u001B[0;34m(\u001B[0m\u001B[0;32mlambda\u001B[0m \u001B[0mx\u001B[0m\u001B[0;34m:\u001B[0m \u001B[0mmath\u001B[0m\u001B[0;34m.\u001B[0m\u001B[0msqrt\u001B[0m\u001B[0;34m(\u001B[0m\u001B[0mx\u001B[0m\u001B[0;34m)\u001B[0m\u001B[0;34m,\u001B[0m \u001B[0mnp\u001B[0m\u001B[0;34m.\u001B[0m\u001B[0marray\u001B[0m\u001B[0;34m(\u001B[0m\u001B[0mt\u001B[0m\u001B[0;34m[\u001B[0m\u001B[0;34m:\u001B[0m\u001B[0;36m1\u001B[0m\u001B[0;34m]\u001B[0m\u001B[0;34m)\u001B[0m\u001B[0;34m[\u001B[0m\u001B[0;36m0\u001B[0m\u001B[0;34m]\u001B[0m\u001B[0;34m)\u001B[0m\u001B[0;34m)\u001B[0m\u001B[0;34m)\u001B[0m\u001B[0;34m\u001B[0m\u001B[0;34m\u001B[0m\u001B[0m\n\u001B[0m\u001B[1;32m      8\u001B[0m \u001B[0mX_pca\u001B[0m \u001B[0;34m=\u001B[0m \u001B[0mnp\u001B[0m\u001B[0;34m.\u001B[0m\u001B[0mdot\u001B[0m\u001B[0;34m(\u001B[0m\u001B[0mX\u001B[0m\u001B[0;34m,\u001B[0m \u001B[0meigenvectors\u001B[0m\u001B[0;34m)\u001B[0m\u001B[0;34m\u001B[0m\u001B[0;34m\u001B[0m\u001B[0m\n",
      "\u001B[0;32m/tmp/ipykernel_20523/3103682107.py\u001B[0m in \u001B[0;36m<lambda>\u001B[0;34m(x)\u001B[0m\n\u001B[1;32m      5\u001B[0m \u001B[0mt\u001B[0m \u001B[0;34m=\u001B[0m \u001B[0mnp\u001B[0m\u001B[0;34m.\u001B[0m\u001B[0msqueeze\u001B[0m\u001B[0;34m(\u001B[0m\u001B[0mt\u001B[0m\u001B[0;34m)\u001B[0m\u001B[0;34m\u001B[0m\u001B[0;34m\u001B[0m\u001B[0m\n\u001B[1;32m      6\u001B[0m \u001B[0meigenvectors\u001B[0m \u001B[0;34m=\u001B[0m \u001B[0mt\u001B[0m\u001B[0;34m[\u001B[0m\u001B[0;36m1\u001B[0m\u001B[0;34m:\u001B[0m\u001B[0;34m,\u001B[0m \u001B[0;34m:\u001B[0m\u001B[0;34m]\u001B[0m\u001B[0;34m\u001B[0m\u001B[0;34m\u001B[0m\u001B[0m\n\u001B[0;32m----> 7\u001B[0;31m \u001B[0mX_pac_w\u001B[0m \u001B[0;34m=\u001B[0m \u001B[0mnp\u001B[0m\u001B[0;34m.\u001B[0m\u001B[0marray\u001B[0m\u001B[0;34m(\u001B[0m\u001B[0mlist\u001B[0m\u001B[0;34m(\u001B[0m\u001B[0mmap\u001B[0m\u001B[0;34m(\u001B[0m\u001B[0;32mlambda\u001B[0m \u001B[0mx\u001B[0m\u001B[0;34m:\u001B[0m \u001B[0mmath\u001B[0m\u001B[0;34m.\u001B[0m\u001B[0msqrt\u001B[0m\u001B[0;34m(\u001B[0m\u001B[0mx\u001B[0m\u001B[0;34m)\u001B[0m\u001B[0;34m,\u001B[0m \u001B[0mnp\u001B[0m\u001B[0;34m.\u001B[0m\u001B[0marray\u001B[0m\u001B[0;34m(\u001B[0m\u001B[0mt\u001B[0m\u001B[0;34m[\u001B[0m\u001B[0;34m:\u001B[0m\u001B[0;36m1\u001B[0m\u001B[0;34m]\u001B[0m\u001B[0;34m)\u001B[0m\u001B[0;34m[\u001B[0m\u001B[0;36m0\u001B[0m\u001B[0;34m]\u001B[0m\u001B[0;34m)\u001B[0m\u001B[0;34m)\u001B[0m\u001B[0;34m)\u001B[0m\u001B[0;34m\u001B[0m\u001B[0;34m\u001B[0m\u001B[0m\n\u001B[0m\u001B[1;32m      8\u001B[0m \u001B[0mX_pca\u001B[0m \u001B[0;34m=\u001B[0m \u001B[0mnp\u001B[0m\u001B[0;34m.\u001B[0m\u001B[0mdot\u001B[0m\u001B[0;34m(\u001B[0m\u001B[0mX\u001B[0m\u001B[0;34m,\u001B[0m \u001B[0meigenvectors\u001B[0m\u001B[0;34m)\u001B[0m\u001B[0;34m\u001B[0m\u001B[0;34m\u001B[0m\u001B[0m\n",
      "\u001B[0;31mNameError\u001B[0m: name 'math' is not defined"
     ]
    }
   ],
   "source": [
    "#(1)\n",
    "eigenvalues, eigenvectors = np.linalg.eig(C)\n",
    "t = np.vstack((eigenvalues, eigenvectors))\n",
    "t = t[:, np.argsort(-t[0, :])]\n",
    "t = np.squeeze(t)\n",
    "eigenvectors = t[1:, :]\n",
    "X_pac_w = np.array(list(map(lambda x: math.sqrt(x), np.array(t[:1])[0])))\n",
    "X_pca = np.dot(X, eigenvectors)"
   ],
   "metadata": {
    "collapsed": false,
    "pycharm": {
     "name": "#%%\n"
    }
   }
  },
  {
   "cell_type": "code",
   "execution_count": null,
   "outputs": [],
   "source": [
    "#(2)\n",
    "import math\n",
    "\n",
    "n, m = X_demean.shape\n",
    "U, Sigma, Vh = np.linalg.svd(X_demean,\n",
    "                             full_matrices=False,\n",
    "                             compute_uv=True)\n",
    "X_svd = np.dot(U, np.diag(Sigma))"
   ],
   "metadata": {
    "collapsed": false,
    "pycharm": {
     "name": "#%%\n"
    }
   }
  },
  {
   "cell_type": "code",
   "execution_count": 22,
   "outputs": [
    {
     "ename": "TypeError",
     "evalue": "dot() missing 1 required positional argument: 'b'",
     "output_type": "error",
     "traceback": [
      "\u001B[0;31m---------------------------------------------------------------------------\u001B[0m",
      "\u001B[0;31mTypeError\u001B[0m                                 Traceback (most recent call last)",
      "\u001B[0;32m/tmp/ipykernel_20523/1413622775.py\u001B[0m in \u001B[0;36m<module>\u001B[0;34m\u001B[0m\n\u001B[1;32m     76\u001B[0m \u001B[0;34m\u001B[0m\u001B[0m\n\u001B[1;32m     77\u001B[0m \u001B[0mpca\u001B[0m \u001B[0;34m=\u001B[0m \u001B[0mPCA\u001B[0m\u001B[0;34m(\u001B[0m\u001B[0;34m)\u001B[0m\u001B[0;34m\u001B[0m\u001B[0;34m\u001B[0m\u001B[0m\n\u001B[0;32m---> 78\u001B[0;31m \u001B[0mX_transformed\u001B[0m \u001B[0;34m=\u001B[0m \u001B[0mpca\u001B[0m\u001B[0;34m.\u001B[0m\u001B[0mfix2\u001B[0m\u001B[0;34m(\u001B[0m\u001B[0mX_demean\u001B[0m\u001B[0;34m,\u001B[0m \u001B[0mr\u001B[0m\u001B[0;34m=\u001B[0m\u001B[0;36m1\u001B[0m\u001B[0;34m)\u001B[0m\u001B[0;34m\u001B[0m\u001B[0;34m\u001B[0m\u001B[0m\n\u001B[0m\u001B[1;32m     79\u001B[0m \u001B[0mplt\u001B[0m\u001B[0;34m.\u001B[0m\u001B[0mscatter\u001B[0m\u001B[0;34m(\u001B[0m\u001B[0mX_demean\u001B[0m\u001B[0;34m[\u001B[0m\u001B[0;34m:\u001B[0m\u001B[0;34m,\u001B[0m \u001B[0;36m0\u001B[0m\u001B[0;34m]\u001B[0m\u001B[0;34m,\u001B[0m \u001B[0mX_demean\u001B[0m\u001B[0;34m[\u001B[0m\u001B[0;34m:\u001B[0m\u001B[0;34m,\u001B[0m \u001B[0;36m1\u001B[0m\u001B[0;34m]\u001B[0m\u001B[0;34m)\u001B[0m\u001B[0;34m\u001B[0m\u001B[0;34m\u001B[0m\u001B[0m\n\u001B[1;32m     80\u001B[0m \u001B[0mplt\u001B[0m\u001B[0;34m.\u001B[0m\u001B[0mplot\u001B[0m\u001B[0;34m(\u001B[0m\u001B[0;34m[\u001B[0m\u001B[0;36m0\u001B[0m\u001B[0;34m,\u001B[0m \u001B[0mX_transformed\u001B[0m\u001B[0;34m[\u001B[0m\u001B[0;36m0\u001B[0m\u001B[0;34m]\u001B[0m \u001B[0;34m*\u001B[0m \u001B[0;36m2\u001B[0m\u001B[0;34m]\u001B[0m\u001B[0;34m,\u001B[0m \u001B[0;34m[\u001B[0m\u001B[0;36m0\u001B[0m\u001B[0;34m,\u001B[0m \u001B[0mX_transformed\u001B[0m\u001B[0;34m[\u001B[0m\u001B[0;36m1\u001B[0m\u001B[0;34m]\u001B[0m \u001B[0;34m*\u001B[0m \u001B[0;36m2\u001B[0m\u001B[0;34m]\u001B[0m\u001B[0;34m,\u001B[0m \u001B[0mcolor\u001B[0m\u001B[0;34m=\u001B[0m\u001B[0;34m'r'\u001B[0m\u001B[0;34m)\u001B[0m  \u001B[0;31m#第一个主成分\u001B[0m\u001B[0;34m\u001B[0m\u001B[0;34m\u001B[0m\u001B[0m\n",
      "\u001B[0;32m/tmp/ipykernel_20523/1413622775.py\u001B[0m in \u001B[0;36mfix2\u001B[0;34m(self, X, r)\u001B[0m\n\u001B[1;32m     72\u001B[0m             \u001B[0mself\u001B[0m\u001B[0;34m.\u001B[0m\u001B[0mbase_vectors\u001B[0m\u001B[0;34m.\u001B[0m\u001B[0mappend\u001B[0m\u001B[0;34m(\u001B[0m\u001B[0mU\u001B[0m\u001B[0;34m[\u001B[0m\u001B[0;34m:\u001B[0m\u001B[0;34m,\u001B[0m \u001B[0mi\u001B[0m\u001B[0;34m]\u001B[0m\u001B[0;34m)\u001B[0m  \u001B[0;31m#取前r个特征值大的特征向量作为基向量\u001B[0m\u001B[0;34m\u001B[0m\u001B[0;34m\u001B[0m\u001B[0m\n\u001B[1;32m     73\u001B[0m         \u001B[0mself\u001B[0m\u001B[0;34m.\u001B[0m\u001B[0mbase_vectors\u001B[0m \u001B[0;34m=\u001B[0m \u001B[0mnp\u001B[0m\u001B[0;34m.\u001B[0m\u001B[0marray\u001B[0m\u001B[0;34m(\u001B[0m\u001B[0mself\u001B[0m\u001B[0;34m.\u001B[0m\u001B[0mbase_vectors\u001B[0m\u001B[0;34m)\u001B[0m\u001B[0;34m\u001B[0m\u001B[0;34m\u001B[0m\u001B[0m\n\u001B[0;32m---> 74\u001B[0;31m         \u001B[0;32mreturn\u001B[0m \u001B[0mnp\u001B[0m\u001B[0;34m.\u001B[0m\u001B[0mdot\u001B[0m\u001B[0;34m(\u001B[0m\u001B[0mself\u001B[0m\u001B[0;34m.\u001B[0m\u001B[0mbase_vectors\u001B[0m\u001B[0;34m)\u001B[0m\u001B[0;34m.\u001B[0m\u001B[0mdot\u001B[0m\u001B[0;34m(\u001B[0m\u001B[0mX\u001B[0m\u001B[0;34m.\u001B[0m\u001B[0mT\u001B[0m\u001B[0;34m)\u001B[0m\u001B[0;34m.\u001B[0m\u001B[0mT\u001B[0m\u001B[0;34m\u001B[0m\u001B[0;34m\u001B[0m\u001B[0m\n\u001B[0m\u001B[1;32m     75\u001B[0m \u001B[0;34m\u001B[0m\u001B[0m\n\u001B[1;32m     76\u001B[0m \u001B[0;34m\u001B[0m\u001B[0m\n",
      "\u001B[0;32m<__array_function__ internals>\u001B[0m in \u001B[0;36mdot\u001B[0;34m(*args, **kwargs)\u001B[0m\n",
      "\u001B[0;31mTypeError\u001B[0m: dot() missing 1 required positional argument: 'b'"
     ]
    }
   ],
   "source": [
    "# coding: utf-8\n",
    "\n",
    "'''\n",
    "特征向量分解实现PCA算法\n",
    "如果特征值出现复数该算法会失效，这就引入了SVD，奇异值分解，\n",
    "奇异值类比于特征值，但是奇异值一定是非负实数，不存在之前的情况\n",
    "'''\n",
    "\n",
    "import numpy as np\n",
    "\n",
    "\n",
    "class PCA(object):\n",
    "    m = 0\n",
    "    n = 0\n",
    "    #降维所需的基向量\n",
    "    base_vectors = None\n",
    "\n",
    "    #均值归一化\n",
    "    def mean_normalization(self, X):\n",
    "        for j in range(self.n):\n",
    "            me = np.mean(X[:, j])\n",
    "            X[:, j] = X[:, j] - me\n",
    "        return X\n",
    "\n",
    "    #r为降低到的维数\n",
    "    def fit(self, X, r):\n",
    "        self.m = X.shape[0]\n",
    "        self.n = X.shape[1]\n",
    "        #均值归一化\n",
    "        X = self.mean_normalization(X)\n",
    "        Xt = X.T\n",
    "        #协方差矩阵\n",
    "        c = (1 / self.m) * Xt.dot(X)\n",
    "        #求解协方差矩阵的特征向量和特征值\n",
    "        eigenvalue, featurevector = np.linalg.eig(c)\n",
    "        #对特征值索引排序 从大到小\n",
    "        aso = np.argsort(eigenvalue)\n",
    "        indexs = aso[::-1]\n",
    "        eigenvalue_sum = np.sum(eigenvalue)\n",
    "        self.base_vectors = []\n",
    "        for i in range(r):\n",
    "            self.base_vectors.append(featurevector[:, indexs[i]])  #取前r个特征值大的特征向量作为基向量\n",
    "        self.base_vectors = np.array(self.base_vectors)\n",
    "        return\n",
    "\n",
    "    def transform(self, X):\n",
    "        #r*n的P乘以n*m的矩阵转置后为m*r的矩阵\n",
    "        return self.base_vectors.dot(X.T).T\n",
    "\n",
    "    def fit_transform(self, X, r):\n",
    "        self.fit(X, r)\n",
    "        return self.transform(X)\n",
    "\n",
    "\n",
    "pca = PCA()\n",
    "X_transformed = pca.fit_transform(X_demean, r=1)\n",
    "plt.scatter(X_demean[:, 0], X_demean[:, 1])\n",
    "plt.plot([0, X_transformed[0] * 2], [0, X_transformed[1] * 2], color='r')  #第一个主成分\n",
    "plt.show()"
   ],
   "metadata": {
    "collapsed": false,
    "pycharm": {
     "name": "#%%\n"
    }
   }
  },
  {
   "cell_type": "code",
   "execution_count": 26,
   "outputs": [
    {
     "name": "stdout",
     "output_type": "stream",
     "text": [
      "[[0.76627752 0.64250973]]\n",
      "(100, 2)\n"
     ]
    },
    {
     "data": {
      "text/plain": "<Figure size 432x288 with 1 Axes>",
      "image/png": "[encoded data removed]"
     },
     "metadata": {
      "needs_background": "light"
     },
     "output_type": "display_data"
    }
   ],
   "source": [
    "\"\"\"\n",
    "1.用户传来获得前N个主成分的N值\n",
    "2.demean(X)获得X_PCA\n",
    "3.根据N值，empty一个n行，列数等于特征数的空数组\n",
    "4.对于N值进行循环\n",
    "    1.每轮循环随机一个搜索方向，作为起始搜索方向\n",
    "    2.使用梯度上升搜索此时的PCA的第一主成分\n",
    "       1.设置学习率，学习次数，极限大小\n",
    "       2.每轮需要把w变成单位向量(让其只表示搜索方向)\n",
    "       3.对目标函数求梯度上升，直到达到学习次数，学习空间小于极限值\n",
    "       4.注：不能对数据进行归一化（已经demean过）\n",
    "    3.把得到的主成分存在我们empty的数组的对应行\n",
    "    4.计算新的X_pca\n",
    "5.返回self\n",
    "\"\"\"\n",
    "import numpy as np\n",
    "\n",
    "\n",
    "class PCA:\n",
    "    def __init__(self, n_components):  #第一个组件\n",
    "        self.n_components = n_components\n",
    "        self.components_ = None\n",
    "\n",
    "    def fit(self, X, eta=0.001, n_iters=1e4):\n",
    "        def first_n_components(n, X, eta=0.001, n_iters=1e4, epsilon=1e-8):\n",
    "            X_pca = X.copy()  # 以后的计算都是用X_pca\n",
    "            X_pca = demean(X_pca)\n",
    "            res = []  # 用来存前n个主成分的列表\n",
    "            for i in range(n):\n",
    "                initial_w = np.random.random(X_pca.shape[1])  # 随机初始化一个搜索点\n",
    "                w = first_component(X_pca, initial_w, eta)\n",
    "                res.append(w)  # 求出主成分对应的方向\n",
    "                X_pca = X_pca - X_pca.dot(w).reshape(-1, 1) * w\n",
    "            return res\n",
    "\n",
    "        def f(X, w):\n",
    "            return np.sum((X.dot(w) ** 2)) / len(X)\n",
    "\n",
    "        def df(X, w):  # △f\n",
    "            return X.T.dot(X.dot(w)) * 2. / len(X)\n",
    "\n",
    "        def demean(X):\n",
    "            return X - np.mean(X, axis=0)\n",
    "\n",
    "        def diretion(w):\n",
    "            return w / np.linalg.norm(w)\n",
    "\n",
    "        def first_component(X, initial_w, eta=0.001, n_iters=1e4, epsilon=1e-8):\n",
    "            w = diretion(initial_w)\n",
    "            # 如果我们不做diretion，理所应当需要eta很小，会使搜索次数变多\n",
    "            cur_iter = 0\n",
    "            while cur_iter < n_iters:\n",
    "                gradient = df(X, w)\n",
    "                last_w = w\n",
    "                w = w + eta * gradient  # 梯度上升\n",
    "                w = diretion(w)  # 注意1：应该让w成为一个表方向的单位向量\n",
    "                if (abs(f(X, w) - f(X, last_w)) < epsilon):\n",
    "                    break\n",
    "                cur_iter += 1\n",
    "            return w\n",
    "\n",
    "        X_pca = demean(X)\n",
    "        self.components_ = np.empty(shape=(self.n_components, X.shape[1]))\n",
    "        for i in range(self.n_components):\n",
    "            initial_w = np.random.random(X_pca.shape[1])\n",
    "            w = first_component(X_pca, initial_w, eta, n_iters)\n",
    "            self.components_[i, :] = w\n",
    "\n",
    "            X_pca = X_pca - X_pca.dot(w).reshape(-1, 1) * w\n",
    "        return self\n",
    "\n",
    "    def transform(self, X):  #对于用户的数据集，隐射到主成分分量中\n",
    "        assert X.shape[1] == self.components_.shape[1]\n",
    "\n",
    "        return X.dot(self.components_.T)\n",
    "\n",
    "    def inverse_transform(self, X):\n",
    "        assert X.shape[1] == self.components_.shape[0]\n",
    "\n",
    "        return X.dot(self.components_)\n",
    "\n",
    "    def __repr__(self):\n",
    "        return \"PCA(n_components=%d)\" % self.n_components\n",
    "\n",
    "\n",
    "pca = PCA(n_components=1)\n",
    "pca.fit(X)\n",
    "print(pca.components_)  ##方向和我们相反\n",
    "X_resuction = pca.transform(X)\n",
    "X_restore = pca.inverse_transform(X_resuction)\n",
    "print(X_restore.shape)\n",
    "#绘制一下散点图\n",
    "plt.scatter(X[:, 0], X[:, 1], color='b', alpha=0.5)\n",
    "plt.scatter(X_restore[:, 0], X_restore[:, 1], color='r', alpha=0.5)\n",
    "plt.show()"
   ],
   "metadata": {
    "collapsed": false,
    "pycharm": {
     "name": "#%%\n"
    }
   }
  },
  {
   "cell_type": "code",
   "execution_count": null,
   "outputs": [],
   "source": [],
   "metadata": {
    "collapsed": false,
    "pycharm": {
     "name": "#%%\n"
    }
   }
  }
 ],
 "metadata": {
  "kernelspec": {
   "display_name": "Python 3",
   "language": "python",
   "name": "python3"
  },
  "language_info": {
   "codemirror_mode": {
    "name": "ipython",
    "version": 3
   },
   "file_extension": ".py",
   "mimetype": "text/x-python",
   "name": "python",
   "nbconvert_exporter": "python",
   "pygments_lexer": "ipython3",
   "version": "3.7.1"
  }
 },
 "nbformat": 4,
 "nbformat_minor": 1
}