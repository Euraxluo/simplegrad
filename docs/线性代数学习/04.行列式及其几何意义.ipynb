{
 "cells": [
  {
   "cell_type": "markdown",
   "metadata": {},
   "source": [
    "# 1.行列式\n",
    "$\\quad$行列式是一个函数，可将一个方阵$A$映射为一个标量，记作$det(A)$或$|A|$，只有**方阵(矩阵的函数和列数相等)才能计算行列式**。如果矩阵维度为$n\\times n$，其行列式也称为$n$阶行列式。\n",
    "## 1.1行列式的计算\n",
    "$\\quad$先给出$2\\times 2$矩阵和$3\\times 3$矩阵的行列式计算公式：\n",
    "* $|A|=\\begin{vmatrix}\n",
    "   a_{11} & a_{12}\\\\\n",
    "   a_{21} & a_{22}\n",
    "  \\end{vmatrix} \n",
    "   =a_{11}a_{22}-a_{12}a_{21}$\n",
    "* $|A|=\\begin{vmatrix}\n",
    "   a_{11} & a_{12} & a_{13}\\\\\n",
    "   a_{21} & a_{22} & a_{23}\\\\\n",
    "   a_{31} & a_{32} & a_{33}\n",
    "  \\end{vmatrix} \n",
    "   =a_{11}a_{22}a_{33}+a_{12}a_{23}a_{31}+a_{13}a_{21}a_{32}-a_{11}a_{23}a_{32}-a_{12}a_{21}a_{33}-a_{13}a_{22}a_{31}$  \n",
    "* $|A|=\\begin{vmatrix}\n",
    "    a & b & c\\\\\n",
    "    d & e & f\\\\\n",
    "    g & h & i\n",
    "    \\end{vmatrix}\n",
    "    =a\\begin{vmatrix}e & f \\\\ h & i \\end{vmatrix}-b\\begin{vmatrix}d & f \\\\ g & i \\end{vmatrix}+c\\begin{vmatrix}d & e \\\\ g & h \\end{vmatrix}$\n",
    "$\\quad$接着我们来讲解计算行列式的一般公式，先引入**余子式**和**代数余子式**的概念。在$n$阶行列式中，把元素$a_{ij}$所在行列在矩阵中删去后，余下的$n-1$阶行列式叫做$a_{ij}$元素的**余子式**，记作$M_{ij}$，同时$A_{ij}=(-1)^{i+j}M_{ij}$叫做$a_{ij}$的**代数余子式**。要注意的是，余子式和代数余子式均为行列式，且行列式的阶越低越容易计算。余子式和代数余子式的例子如下所示：\n",
    "\n",
    "<img src=\"./_image/4_1.png\" width=\"500\" height=\"250\" />  \n",
    "\n",
    "$\\quad$行列式的计算可以某一行或某一列的元素乘以它对应的代数余子式的累加：  \n",
    "\n",
    "$$|A|=\\begin{vmatrix}\n",
    "   a_{11} & \\cdots & a_{1n}\\\\\n",
    "   \\vdots & \\ddots & \\vdots\\\\\n",
    "   a_{n1} & \\cdots & a_{nn}\n",
    "  \\end{vmatrix} \n",
    "  =a_{i1}A_{i1}+a_{i2}A_{i2}+\\dots+a_{in}A_{in}=a_{1j}A_{ij}+a_{2j}A_{2j}+\\dots+a_{nj}A_{nj}$$  \n",
    "\n",
    "具体沿着哪一行或者哪一列的展开是要依据情况而定。例如：\n",
    "\n",
    "<img src=\"./_image/4_2.png\" width=\"500\" height=\"250\" /> \n",
    "\n",
    "## 1.2行列式的性质与可逆矩阵定理\n",
    "$\\quad$在我们的具体计算过程中，可以借助行列式的行变换性质帮我们简化运算，矩阵$A$是一个方阵：  \n",
    "* 若$A$的某一行的倍数加到另一行得矩阵$B$，则$|B|=|A|$；\n",
    "* 若$A$的两行互换得矩阵$B$，则$|B|=-|A|$；\n",
    "* 若$A$的某行乘以$k$倍得到矩阵$B$，则$|B|=k\\cdot |A|$；\n",
    "* $|A|=|A|^{T}$，这证明了行列式的列变换和行变换具有一样的效果;\n",
    "* 若$A,B$均为$n\\times n$矩阵，则$|AB|=|A||B|$.  \n",
    "\n",
    "根据行列式的性质，我们在计算一个矩阵的行列式时，可以先对其进行一系列的行变换使其化简为阶梯型矩阵，因为三角形矩阵的行列式等于其对角线,这时直接计算**对角线上的元素乘积**即可，大约需要$2n^{3}/3$次运算次数。例如：\n",
    "\n",
    "<img src=\"./_image/4_3.png\" width=\"500\" height=\"250\" />    \n",
    "\n",
    "$\\quad$如果一个$n\\times n$矩阵经过一系列行变换形成阶梯型矩阵，具有$n$个主元（对角线上元素均不为0），说明$|A|\\neq 0$，再结合回[可逆矩阵定理](《线性代数及其应用》笔记03.矩阵运算与逆矩阵.ipynb)，可以得出结论：$A$可逆当且仅当$|A|\\neq 0$，可逆矩阵定理可再做补充：\n",
    "\n",
    "<img src=\"./_image/4_4.png\" width=\"500\" height=\"300\" />    \n",
    "\n",
    "## 1.3克拉默法则\n",
    "$\\quad$克拉默法则在各种理论计算中是必需的。例如，可以被用来研究$A\\mathbf{x}=\\mathbf{b}$的解受$\\mathbf{b}$中元素的变化而受到什么样的影响。  \n",
    "$\\quad$设$A$是一个可逆的$n\\times n$矩阵，对$\\Bbb{R}^{n}$中任意向量$\\mathbf{b}$，方程$A\\mathbf{x}=\\mathbf{b}$的唯一解可由下式给出：\n",
    "$$x_{i}=\\frac{|A_{i}(\\mathbf{b})|}{|A|},i=1,2,\\dots,n$$\n",
    "其中$A_{i}(\\mathbf{b})$表示$A$中第$i$列由向量$\\mathbf{b}$替换：\n",
    "\n",
    "<img src=\"./_image/4_5.png\" width=\"200\" height=\"150\" />     \n",
    "\n",
    "$\\quad$例如：\n",
    "\n",
    "<img src=\"./_image/4_6.png\" width=\"500\" height=\"300\" />     \n",
    "\n",
    "$\\quad$必须说明的是，克拉默法则对一个很大的矩阵是无效的，仅计算一个行列式就大约与用行化简解$A\\mathbf{x}=\\mathbf{b}$有相同的工作量。\n",
    "## 1.4逆矩阵公式\n",
    "$\\quad$设$A$是一个可逆的$n\\times n$矩阵，则$A^{-1}=\\frac{1}{|A|}adj(A)$。其中$adj(A)$为矩阵$A$的伴随矩阵，是由代数余子式组成的矩阵的转置：\n",
    "$$\n",
    "adj(A)=\\begin{bmatrix}{}\n",
    "   A_{11} & \\cdots & A_{1n}\\\\\n",
    "   \\vdots & \\ddots & \\vdots\\\\\n",
    "   A_{n1} & \\cdots & A_{nn}\n",
    "  \\end{bmatrix}^{T}\n",
    "  =\\begin{bmatrix}\n",
    "   A_{11} & \\cdots & A_{n1}\\\\\n",
    "   \\vdots & \\ddots & \\vdots\\\\\n",
    "   A_{1n} & \\cdots & A_{nn}\n",
    "  \\end{bmatrix} \n",
    "$$\n",
    "$\\quad$用一个例子来说明\n",
    "\n",
    "<img src=\"./_image/4_7.png\" width=\"500\" height=\"300\" />  \n",
    "\n",
    "$\\quad$逆矩阵公式也印证了行列式与逆矩阵的关系：矩阵可逆当且仅当行列式不为零。\n",
    "## 1.5行列式的几何意义\n",
    "$\\quad$《线性代数及其应用》这本书除了讲解基本的定理外，还会给出对一些概念的几何解释。它让我们眼里的线代是生动的，而了解几何意义也会帮助我们更好地去学习线代。这里我们会去解释行列式的几何意义.  \n",
    "$\\quad$这里先给出结论：矩阵代表了一种线性变换，而行列式绝对值代表了这种线性变换下面积/体积的缩放比例。  \n",
    "$\\quad$听起来很难理解？举个简单的例子是最好的入门。若$A$是一个$2\\times 2$的对角矩阵，那么其行列式为：\n",
    "\n",
    "$$\n",
    "|A|=\\begin{vmatrix}\n",
    "   a & 0\\\\\n",
    "   0 & d\n",
    "  \\end{vmatrix} \n",
    "   =ad={Area}\n",
    "$$\n",
    "\n",
    "可能不够直观，我们在平面直角坐标系下观察，矩阵的列向量在坐标系下显示出来，如下图所示：\n",
    "\n",
    "<img src=\"./_image/4_8.png\" width=\"150\" height=\"100\" />     \n",
    "\n",
    "$\\quad$上述小例子会帮助你去更好地理解。现在我们试着去将这种几何意义表达出来，我们从$2\\times 2$的单位阵$A$出发，将其线性变换为其他的矩阵，观察面积以及其绝对值的变化：\n",
    "\n",
    "<img src=\"./_image/4_9.png\" width=\"600\" height=\"400\" />     \n",
    "\n",
    "希望大家在脑子里想象这个面积变化过程。因为初始矩阵的面积为1，因此每次变化的面积为行列式的绝对值（缩放比例乘以1等于缩放比例）。根据行列式的几何意义，我们可以去计算某些几何图形的面积，例如椭圆形，如下所示：\n",
    "\n",
    "<img src=\"./_image/4_10.png\" width=\"600\" height=\"400\" />     \n",
    "\n"
   ]
  },
  {
   "cell_type": "markdown",
   "metadata": {
    "pycharm": {
     "name": "#%% md\n"
    }
   },
   "source": [
    "### 补充：行列式为0即空间被压缩到了低维，对应的，意味着该矩阵表达的空间(张成空间)被压缩，即该矩阵线性相关"
   ]
  },
  {
   "cell_type": "code",
   "execution_count": 82,
   "outputs": [],
   "source": [
    "# python 求解行列式"
   ],
   "metadata": {
    "collapsed": false,
    "pycharm": {
     "name": "#%%\n"
    }
   }
  },
  {
   "cell_type": "code",
   "execution_count": 83,
   "outputs": [
    {
     "name": "stdout",
     "output_type": "stream",
     "text": [
      "阶梯矩阵:\n",
      " [[ 1 -4  2]\n",
      " [ 0  3  2]\n",
      " [ 0  0 -5]]\n",
      "变号次数:\n",
      " 1\n",
      "det:\n",
      " 15\n",
      "15\n"
     ]
    }
   ],
   "source": [
    "import numpy as np\n",
    "from functools import reduce\n",
    "\n",
    "\n",
    "def SequentialGauss(matrix):\n",
    "    \"\"\"\n",
    "    顺序高斯消元法-求阶梯矩阵\n",
    "    :param mat:\n",
    "    :return:\n",
    "    \"\"\"\n",
    "    mat = matrix.copy()\n",
    "    vswap = 0\n",
    "    for i in range(0, (mat.shape[0]) - 1):\n",
    "        if mat[i, i] == 0:\n",
    "            # 行变换\n",
    "            col = (mat[i:, i]).copy()\n",
    "            max_arg = np.multiply(col, col).argmax()\n",
    "            mat[[i, i + max_arg], :] = mat[[i + max_arg, i], :]\n",
    "            vswap += 1\n",
    "        else:\n",
    "            # 将除i行后的每一行，都进行scala，到相同的尺度\n",
    "            # scala 方式如下，选择 (j,i)/(i,i) 得到 行间的系数，\n",
    "            # scala的行 减去该系数和第i行的乘积\n",
    "            for j in range(i + 1, mat.shape[0]):\n",
    "                mat[j:j + 1, :] = mat[j:j + 1, :] - (mat[j, i] / mat[i, i]) * mat[i, :]\n",
    "    diagonal_line_mat = mat[[np.arange(i) for i in mat.shape]]\n",
    "    scala = reduce(lambda x, y: x * y, diagonal_line_mat.tolist()[0])\n",
    "    det = -1 ** vswap * scala\n",
    "    print(\"阶梯矩阵:\\n\", mat)\n",
    "    print(\"变号次数:\\n\", vswap)\n",
    "    print(\"det:\\n\", -1 ** vswap * scala)\n",
    "    return det\n",
    "\n",
    "\n",
    "# mat = SequentialGauss(np.mat([\n",
    "#     [2, 3, 1],\n",
    "#     [0, 5, 6],\n",
    "#     [5, 5, 4],\n",
    "# ]))\n",
    "mat = SequentialGauss(np.mat([\n",
    "    [1, -4, 2],\n",
    "    [-2, 8, -9],\n",
    "    [-1, 7, 0],\n",
    "]))\n",
    "print(mat)"
   ],
   "metadata": {
    "collapsed": false,
    "pycharm": {
     "name": "#%%\n"
    }
   }
  },
  {
   "cell_type": "code",
   "execution_count": 83,
   "outputs": [],
   "source": [],
   "metadata": {
    "collapsed": false,
    "pycharm": {
     "name": "#%%\n"
    }
   }
  }
 ],
 "metadata": {
  "kernelspec": {
   "display_name": "Python 3",
   "language": "python",
   "name": "python3"
  },
  "language_info": {
   "codemirror_mode": {
    "name": "ipython",
    "version": 3
   },
   "file_extension": ".py",
   "mimetype": "text/x-python",
   "name": "python",
   "nbconvert_exporter": "python",
   "pygments_lexer": "ipython3",
   "version": "3.8.3"
  }
 },
 "nbformat": 4,
 "nbformat_minor": 4
}